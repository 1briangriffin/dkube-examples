{
 "cells": [
  {
   "cell_type": "code",
   "execution_count": null,
   "metadata": {},
   "outputs": [],
   "source": [
    "import os,sys\n",
    "import kfp"
   ]
  },
  {
   "cell_type": "code",
   "execution_count": null,
   "metadata": {},
   "outputs": [],
   "source": [
    "components_url = \"/mnt/dkube/pipeline/components/\"\n",
    "dkube_training_op = kfp.components.load_component_from_file(components_url + \"training/component.yaml\")\n",
    "dkube_serving_op = kfp.components.load_component_from_file(components_url + \"serving/component.yaml\")\n",
    "token = os.getenv(\"DKUBE_USER_ACCESS_TOKEN\")\n",
    "client = kfp.Client(existing_token=token)"
   ]
  },
  {
   "cell_type": "code",
   "execution_count": null,
   "metadata": {},
   "outputs": [],
   "source": [
    "@kfp.dsl.pipeline(\n",
    "    name='dkube-mnist-pl',\n",
    "    description='sample mnist pipeline with dkube components'\n",
    ")\n",
    "def mnist_pipeline(token):\n",
    "    train       = dkube_training_op(token, '{\"image\":\"ocdr/d3-datascience-pytorch-cpu:v1.6\"}',\n",
    "                                    framework=\"pytorch\", version=\"1.6\",\n",
    "                                    program=\"pytorch-examples\", run_script=\"python mnist/train.py\",\n",
    "                                    datasets='[\"mnist\"]', outputs='[\"mnist\"]',\n",
    "                                    input_dataset_mounts='[\"/mnist\"]',\n",
    "                                    output_mounts='[\"/model\"]',\n",
    "                                    envs='[{\"EPOCHS\": \"1\"}]')\n",
    "\n",
    "    serving     = dkube_serving_op(token, train.outputs['artifact'], device='cpu', \n",
    "                                    serving_image='{\"image\":\"ocdr/pytorchserver:1.6\"}',\n",
    "                                    transformer_image='{\"image\":\"ocdr/d3-datascience-pytorch-cpu:v1.6-1\"}',\n",
    "                                    transformer_project=\"pytorch-examples\",\n",
    "                                    transformer_code='mnist/transformer.py').after(train)"
   ]
  },
  {
   "cell_type": "code",
   "execution_count": null,
   "metadata": {},
   "outputs": [],
   "source": [
    "client.create_run_from_pipeline_func(mnist_pipeline, arguments={\"token\":token})"
   ]
  },
  {
   "cell_type": "code",
   "execution_count": null,
   "metadata": {},
   "outputs": [],
   "source": [
    "#generate & upload pipeline (Optional)\n",
    "import kfp.compiler as compiler\n",
    "compiler.Compiler().compile(mnist_pipeline, \"mnist-pipeline.zip\")\n",
    "client.upload_pipeline(\"mnist-pipeline.zip\")"
   ]
  }
 ],
 "metadata": {
  "kernelspec": {
   "display_name": "Python 3",
   "language": "python",
   "name": "python3"
  },
  "language_info": {
   "codemirror_mode": {
    "name": "ipython",
    "version": 3
   },
   "file_extension": ".py",
   "mimetype": "text/x-python",
   "name": "python",
   "nbconvert_exporter": "python",
   "pygments_lexer": "ipython3",
   "version": "3.8.5"
  }
 },
 "nbformat": 4,
 "nbformat_minor": 4
}