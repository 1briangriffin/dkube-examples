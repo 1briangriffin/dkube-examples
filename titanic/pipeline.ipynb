{
 "cells": [
  {
   "cell_type": "code",
   "execution_count": null,
   "metadata": {},
   "outputs": [],
   "source": [
    "import os,sys\n",
    "import kfp\n",
    "from dkube.pipelines import dkube_training_op, dkube_serving_op\n",
    "from dkube.sdk import DkubeApi, DkubeTraining, DkubeServing"
   ]
  },
  {
   "cell_type": "code",
   "execution_count": null,
   "metadata": {},
   "outputs": [],
   "source": [
    "username = os.getenv(\"USERNAME\")\n",
    "token = os.getenv(\"DKUBE_USER_ACCESS_TOKEN\")\n",
    "client = kfp.Client(existing_token=token)\n",
    "api = DkubeApi(token=token)\n",
    "run_id = 0"
   ]
  },
  {
   "cell_type": "code",
   "execution_count": null,
   "metadata": {},
   "outputs": [],
   "source": [
    "code_name = \"sklearn-examples\"\n",
    "dataset = \"titanic\"\n",
    "model_name = \"titanic\""
   ]
  },
  {
   "cell_type": "code",
   "execution_count": null,
   "metadata": {},
   "outputs": [],
   "source": [
    "training = DkubeTraining(username, name=\"train\")\n",
    "training.update_container(framework=\"scikit_0.2.2\")\n",
    "training.add_code(code_name, commitid=\"\")\n",
    "training.update_startupscript(\"python titanic/train.py\")\n",
    "training.add_input_dataset(dataset, mountpath='/titanic')\n",
    "training.add_output_model(model_name, mountpath='/model')\n",
    "\n",
    "\n",
    "serving = DkubeServing(username, name=\"serving\")\n",
    "serving.set_transformer(True, script='titanic/transformer.py')\n",
    "serving.update_serving_model(model_name)\n",
    "    \n",
    "@kfp.dsl.pipeline(\n",
    "    name='dkube-titanic-pl',\n",
    "    description='sample titanic pipeline with dkube components'\n",
    ")\n",
    "def titanic_pipeline(token, program='training'):\n",
    "    train   = dkube_training_op(\"train\", authtoken=token, training=training)    \n",
    "    dkube_serving_op(\"serving\", authtoken=token, serving=serving).after(train)"
   ]
  },
  {
   "cell_type": "code",
   "execution_count": null,
   "metadata": {},
   "outputs": [],
   "source": [
    "client.create_run_from_pipeline_func(titanic_pipeline, run_name=\"[titanic] Run\" + str(runid), arguments={\"token\":token})\n",
    "runid += 1"
   ]
  },
  {
   "cell_type": "code",
   "execution_count": null,
   "metadata": {},
   "outputs": [],
   "source": [
    "#kfp.compiler.Compiler().compile(titanic_pipeline, \"titanic_pipeline.zip\")"
   ]
  }
 ],
 "metadata": {
  "kernelspec": {
   "display_name": "Python 3",
   "language": "python",
   "name": "python3"
  },
  "language_info": {
   "codemirror_mode": {
    "name": "ipython",
    "version": 3
   },
   "file_extension": ".py",
   "mimetype": "text/x-python",
   "name": "python",
   "nbconvert_exporter": "python",
   "pygments_lexer": "ipython3",
   "version": "3.8.2-final"
  }
 },
 "nbformat": 4,
 "nbformat_minor": 4
}