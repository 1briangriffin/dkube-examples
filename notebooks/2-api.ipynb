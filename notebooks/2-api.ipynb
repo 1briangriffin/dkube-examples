{
 "metadata": {
  "language_info": {
   "codemirror_mode": {
    "name": "ipython",
    "version": 3
   },
   "file_extension": ".py",
   "mimetype": "text/x-python",
   "name": "python",
   "nbconvert_exporter": "python",
   "pygments_lexer": "ipython3",
   "version": "3.8.2-final"
  },
  "orig_nbformat": 2,
  "kernelspec": {
   "name": "python3",
   "display_name": "Python 3"
  }
 },
 "nbformat": 4,
 "nbformat_minor": 2,
 "cells": [
  {
   "cell_type": "code",
   "execution_count": null,
   "metadata": {},
   "outputs": [],
   "source": [
    "import requests\n",
    "import os"
   ]
  },
  {
   "cell_type": "code",
   "execution_count": null,
   "metadata": {},
   "outputs": [],
   "source": [
    "token = os.getenv('DKUBE_USER_ACCESS_TOKEN')\n",
    "username =  os.getenv('USERNAME')\n",
    "URL = \"https://192.168.200.124:32222/dkube/v2/controller\""
   ]
  },
  {
   "cell_type": "code",
   "execution_count": null,
   "metadata": {},
   "outputs": [],
   "source": [
    "headers = {\"Content-Type\": \"application/json\",\"Authorization\": \"Bearer \" + token}\n",
    "\n",
    "r = requests.get(f\"{URL}/users/{username}/jobs/class/inference/?shared=false\", headers=headers, verify=False)\n",
    "\n",
    "if r.status_code == 200:\n",
    "    jobs = r.json()['data'][0]['jobs']\n",
    "    for job in jobs:\n",
    "        if \"mnist-serv\" in job[\"name\"]:\n",
    "            print (job)\n",
    "            break\n",
    "else:\n",
    "    print(r.text)"
   ]
  }
 ]
}