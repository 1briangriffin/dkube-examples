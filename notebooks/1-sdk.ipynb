{
 "metadata": {
  "language_info": {
   "codemirror_mode": {
    "name": "ipython",
    "version": 3
   },
   "file_extension": ".py",
   "mimetype": "text/x-python",
   "name": "python",
   "nbconvert_exporter": "python",
   "pygments_lexer": "ipython3",
   "version": "3.8.2-final"
  },
  "orig_nbformat": 2,
  "kernelspec": {
   "name": "python3",
   "display_name": "Python 3"
  }
 },
 "nbformat": 4,
 "nbformat_minor": 2,
 "cells": [
  {
   "cell_type": "code",
   "execution_count": null,
   "metadata": {},
   "outputs": [],
   "source": [
    "#pip install git+https://github.com/oneconvergence/dkube.git@2.2"
   ]
  },
  {
   "cell_type": "code",
   "execution_count": null,
   "metadata": {},
   "outputs": [],
   "source": [
    "import os, time\n",
    "from dkube.sdk import *"
   ]
  },
  {
   "cell_type": "code",
   "execution_count": null,
   "metadata": {},
   "outputs": [],
   "source": [
    "token = os.getenv(\"DKUBE_USER_ACCESS_TOKEN\")\n",
    "username =  os.getenv(\"USERNAME\")\n",
    "dkube_url = os.getenv(\"DKUBE_URL\")\n",
    "api = DkubeApi(URL=dkube_url,token=token)"
   ]
  },
  {
   "source": [
    "Creating Repos"
   ],
   "cell_type": "markdown",
   "metadata": {}
  },
  {
   "cell_type": "code",
   "execution_count": null,
   "metadata": {},
   "outputs": [],
   "source": [
    "code_name = generate(\"dkube-examples\")\n",
    "code = DkubeCode(username, name=code_name)\n",
    "code.update_git_details(\"https://github.com/oneconvergence/dkube-examples.git\")\n",
    "api.create_code(code)"
   ]
  },
  {
   "cell_type": "code",
   "execution_count": null,
   "metadata": {},
   "outputs": [],
   "source": [
    "dataset_name = generate(\"mnist\")\n",
    "dataset = DkubeDataset(username, name=dataset_name)\n",
    "dataset.update_git_details(\"https://dkube.s3.amazonaws.com/datasets/mnist.pkl.gz\")\n",
    "dataset.update_dataset_source(source='pub_url')\n",
    "#dataset.update_awss3_details(bucket=\"mybucket\",prefix=\"datasets/mnist.pkl.gz\",key=\"access_key\",secret=\"access_secret\")\n",
    "api.create_dataset(dataset)"
   ]
  },
  {
   "cell_type": "code",
   "execution_count": null,
   "metadata": {},
   "outputs": [],
   "source": [
    "model_name = generate(\"mnist\")\n",
    "model = DkubeModel(username, name=model_name)\n",
    "model.update_model_source(source='dvs')\n",
    "api.create_model(model)"
   ]
  },
  {
   "source": [
    "Train"
   ],
   "cell_type": "markdown",
   "metadata": {}
  },
  {
   "cell_type": "code",
   "execution_count": null,
   "metadata": {
    "tags": []
   },
   "outputs": [],
   "source": [
    "training_name = generate(\"mnist-sdk-run\")\n",
    "training = DkubeTraining(username, name=training_name)\n",
    "training.update_container(framework=\"tensorflow_2.0.0\", image_url=\"docker.io/ocdr/dkube-datascience-tf-cpu:v2.0.0-3\")\n",
    "training.add_code(code_name)\n",
    "training.update_startupscript(\"python mnist/train.py\")\n",
    "training.add_input_dataset(dataset_name, mountpath=\"/mnist\")\n",
    "training.add_output_model(model_name, mountpath=\"/model\")\n",
    "current_version = api.get_model_latest_version (username, model_name)['uuid']\n",
    "api.create_training_run(training)\n",
    "#wait while model version is updated\n",
    "while current_version == api.get_model_latest_version (username, model_name)['uuid']:\n",
    "    time.sleep(5)"
   ]
  },
  {
   "source": [
    "Serve"
   ],
   "cell_type": "markdown",
   "metadata": {}
  },
  {
   "cell_type": "code",
   "execution_count": null,
   "metadata": {},
   "outputs": [],
   "source": [
    "deployment_name = generate(\"mnist-serv\")\n",
    "serving = DkubeServing(username, name=deployment_name)\n",
    "serving.set_transformer(transformer=True, script=\"mnist/transformer.py\")\n",
    "serving.update_transformer_code(code=code_name)\n",
    "serving.update_transformer_image(image_url=\"docker.io/ocdr/dkube-datascience-tf-cpu:v2.0.0-3\")\n",
    "serving.update_serving_model(model_name)\n",
    "serving.update_serving_image(image_url=\"ocdr/tensorflowserver:2.0.0\")\n",
    "#serving.set_production_deploy()\n",
    "serving.update_autoscaling_config(min_replicas=1, max_concurrent_requests=1)\n",
    "api.create_test_inference(serving)"
   ]
  },
  {
   "source": [
    "Deployment URL"
   ],
   "cell_type": "markdown",
   "metadata": {}
  },
  {
   "cell_type": "code",
   "execution_count": null,
   "metadata": {},
   "outputs": [],
   "source": [
    "deployments = api.list_model_deployments(username)\n",
    "for deployment in deployments:\n",
    "    if deployment_name == deployment[\"name\"]:\n",
    "        params = deployment[\"parameters\"]\n",
    "        if params['generated']['status']['state'] == 'RUNNING':\n",
    "            print(\"Serving URL:\",params['generated']['details']['serving']['servingurl'])"
   ]
  }
 ]
}