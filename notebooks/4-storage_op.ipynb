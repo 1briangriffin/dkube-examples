{
 "metadata": {
  "language_info": {
   "codemirror_mode": {
    "name": "ipython",
    "version": 3
   },
   "file_extension": ".py",
   "mimetype": "text/x-python",
   "name": "python",
   "nbconvert_exporter": "python",
   "pygments_lexer": "ipython3",
   "version": "3.8.2-final"
  },
  "orig_nbformat": 2,
  "kernelspec": {
   "name": "python3",
   "display_name": "Python 3"
  }
 },
 "nbformat": 4,
 "nbformat_minor": 2,
 "cells": [
  {
   "cell_type": "code",
   "execution_count": null,
   "metadata": {},
   "outputs": [],
   "source": [
    "import os, json\n",
    "import ssl\n",
    "import kfp"
   ]
  },
  {
   "cell_type": "code",
   "execution_count": null,
   "metadata": {},
   "outputs": [],
   "source": [
    "URL = os.getenv(\"DKUBE_URL\")  # DKube UI URL\n",
    "token = os.environ.get(\"DKUBE_USER_ACCESS_TOKEN\")  # DKube OAuth token from UI\n",
    "ssl.CERT_REQUIRED = ssl.CERT_NONE      # workaround if above URL is not signed by a trusted CA\n",
    "\n",
    "client = kfp.Client(host=URL + \"/pipeline\", client_id=\"1\", existing_token=token, namespace=os.getenv('USERNAME'))"
   ]
  },
  {
   "cell_type": "code",
   "execution_count": null,
   "metadata": {},
   "outputs": [],
   "source": [
    "def custom_component():\n",
    "    import os\n",
    "    os.system(\"ls -lR /model\")\n",
    "\n",
    "custom_op = kfp.components.create_component_from_func(custom_component)\n",
    "storage_op = kfp.components.load_component_from_file(\"/mnt/dkube/pipeline/components/storage/component.yaml\")"
   ]
  },
  {
   "cell_type": "code",
   "execution_count": null,
   "metadata": {},
   "outputs": [],
   "source": [
    "@kfp.dsl.pipeline(name='StorageOp Example',description='StorageOp Example with custom component')\n",
    "\n",
    "def storage_test_pipeline(model_name):\n",
    "    #storage_op with reclaim command versions output volumes and cleanup generated PVCs\n",
    "    with kfp.dsl.ExitHandler(exit_op=storage_op(\"reclaim\", token, namespace=\"kubeflow\",uid=\"{{workflow.uid}}\")):\n",
    "        #specify one or more DKube resources as input or output volumes\n",
    "        input_volumes = json.dumps([\"{{workflow.uid}}-model@model://\" + str(model_name)])\n",
    "        \n",
    "        #export DKube resources as PVC\n",
    "        storage  = storage_op(\"export\", token, namespace=\"kubeflow\", input_volumes=input_volumes)\n",
    "        \n",
    "        #your component which uses DKube Resources\n",
    "        train_op = custom_op().after(storage)\n",
    "        \n",
    "        #mount DKube resources at specified path in your container\n",
    "        train_op.add_pvolumes({\"/model\": kfp.dsl.PipelineVolume(pvc=\"{{workflow.uid}}-model\")})"
   ]
  },
  {
   "cell_type": "code",
   "execution_count": null,
   "metadata": {},
   "outputs": [],
   "source": [
    "client.create_run_from_pipeline_func(storage_test_pipeline, arguments={\"model_name\":\"mnist-1783\"})"
   ]
  }
 ]
}