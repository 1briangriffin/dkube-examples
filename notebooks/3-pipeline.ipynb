{
 "metadata": {
  "language_info": {
   "codemirror_mode": {
    "name": "ipython",
    "version": 3
   },
   "file_extension": ".py",
   "mimetype": "text/x-python",
   "name": "python",
   "nbconvert_exporter": "python",
   "pygments_lexer": "ipython3",
   "version": "3.8.2-final"
  },
  "orig_nbformat": 2,
  "kernelspec": {
   "name": "python3",
   "display_name": "Python 3"
  }
 },
 "nbformat": 4,
 "nbformat_minor": 2,
 "cells": [
  {
   "cell_type": "code",
   "execution_count": null,
   "metadata": {},
   "outputs": [],
   "source": [
    "#pip install kfp==1.4.0 kfp-server-api==1.2.0"
   ]
  },
  {
   "cell_type": "code",
   "execution_count": null,
   "metadata": {},
   "outputs": [],
   "source": [
    "import os, json\n",
    "import ssl\n",
    "import tempfile\n",
    "import kfp"
   ]
  },
  {
   "cell_type": "code",
   "execution_count": null,
   "metadata": {},
   "outputs": [],
   "source": [
    "URL = os.getenv(\"DKUBE_URL\")  # DKube UI URL\n",
    "token = os.environ.get(\"DKUBE_USER_ACCESS_TOKEN\")  # DKube OAuth token from UI\n",
    "ssl.CERT_REQUIRED = ssl.CERT_NONE      # workaround if above URL is not signed by a trusted CA\n",
    "\n",
    "client = kfp.Client(host=URL + \"/pipeline\", client_id=\"1\", existing_token=token)"
   ]
  },
  {
   "cell_type": "code",
   "execution_count": null,
   "metadata": {},
   "outputs": [],
   "source": [
    "@kfp.dsl.pipeline(name=\"test\", description=\"pipeline with 1 echo component\")\n",
    "def test_pipeline():\n",
    "    kfp.dsl.ContainerOp(\"echo\", image=\"bash\", command=[\"echo\", \"hello\"])"
   ]
  },
  {
   "cell_type": "code",
   "execution_count": null,
   "metadata": {},
   "outputs": [],
   "source": [
    "# compile\n",
    "f = tempfile.NamedTemporaryFile(suffix=\".zip\", delete=False)\n",
    "kfp.compiler.Compiler().compile(test_pipeline, f.name)"
   ]
  },
  {
   "cell_type": "code",
   "execution_count": null,
   "metadata": {},
   "outputs": [],
   "source": [
    "# upload\n",
    "pipeline = client.upload_pipeline(f.name, pipeline_name=\"test pipeline\")"
   ]
  },
  {
   "cell_type": "code",
   "execution_count": null,
   "metadata": {},
   "outputs": [],
   "source": [
    "#create experiment to group pipeline runs\n",
    "experiment = client.create_experiment(name=\"training\")"
   ]
  },
  {
   "cell_type": "code",
   "execution_count": null,
   "metadata": {},
   "outputs": [],
   "source": [
    "# run\n",
    "run = client.run_pipeline(experiment.id, \"test pipeline run\", pipeline_id=pipeline.id, params={})\n",
    "# wait for completion\n",
    "r=client.wait_for_run_completion(run.id, 60 * 20) "
   ]
  },
  {
   "cell_type": "code",
   "execution_count": null,
   "metadata": {},
   "outputs": [],
   "source": [
    "#Upload new version of a pipeline\n",
    "pipeline_id=client.get_pipeline_id(\"test pipeline\")\n",
    "new_pipline=client.upload_pipeline_version(f.name, 'Another version', pipeline_id=pipeline.id)"
   ]
  },
  {
   "cell_type": "code",
   "execution_count": null,
   "metadata": {},
   "outputs": [],
   "source": [
    "# delete pipeline\n",
    "client.delete_pipeline(pipeline.id) "
   ]
  }
 ]
}