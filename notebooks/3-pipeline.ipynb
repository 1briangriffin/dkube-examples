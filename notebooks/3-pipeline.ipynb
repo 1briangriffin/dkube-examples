{
 "metadata": {
  "language_info": {
   "codemirror_mode": {
    "name": "ipython",
    "version": 3
   },
   "file_extension": ".py",
   "mimetype": "text/x-python",
   "name": "python",
   "nbconvert_exporter": "python",
   "pygments_lexer": "ipython3",
   "version": "3.8.2-final"
  },
  "orig_nbformat": 2,
  "kernelspec": {
   "name": "python3",
   "display_name": "Python 3"
  }
 },
 "nbformat": 4,
 "nbformat_minor": 2,
 "cells": [
  {
   "cell_type": "code",
   "execution_count": null,
   "metadata": {},
   "outputs": [],
   "source": [
    "import os, json\n",
    "import ssl\n",
    "import tempfile\n",
    "import kfp"
   ]
  },
  {
   "cell_type": "code",
   "execution_count": null,
   "metadata": {},
   "outputs": [],
   "source": [
    "URL = os.getenv(\"DKUBE_URL\")  # DKube UI URL\n",
    "token = os.environ.get(\"DKUBE_USER_ACCESS_TOKEN\")  # DKube OAuth token from UI\n",
    "ssl.CERT_REQUIRED = ssl.CERT_NONE      # workaround if above URL is not signed by a trusted CA\n",
    "\n",
    "client = kfp.Client(host=URL + \"/pipeline\", client_id=\"1\", existing_token=token)"
   ]
  },
  {
   "cell_type": "code",
   "execution_count": null,
   "metadata": {},
   "outputs": [],
   "source": [
    "@kfp.dsl.pipeline(name=\"test\", description=\"pipeline with 1 echo component\")\n",
    "def test_pipeline():\n",
    "    kfp.dsl.ContainerOp(\"echo\", image=\"bash\", command=[\"echo\", \"hello\"])"
   ]
  },
  {
   "cell_type": "code",
   "execution_count": null,
   "metadata": {},
   "outputs": [],
   "source": [
    "# compile\n",
    "f = tempfile.NamedTemporaryFile(suffix=\".zip\", delete=False)\n",
    "kfp.compiler.Compiler().compile(test_pipeline, f.name)"
   ]
  },
  {
   "cell_type": "code",
   "execution_count": null,
   "metadata": {},
   "outputs": [],
   "source": [
    "# upload\n",
    "pipeline = client.upload_pipeline(f.name, pipeline_name=\"test1\")"
   ]
  },
  {
   "cell_type": "code",
   "execution_count": null,
   "metadata": {},
   "outputs": [],
   "source": [
    "# run\n",
    "result = client.create_run_from_pipeline_package(f.name, {}, \"test run\")"
   ]
  },
  {
   "cell_type": "code",
   "execution_count": null,
   "metadata": {},
   "outputs": [],
   "source": [
    "# wait for completion\n",
    "r=result.wait_for_run_completion(60 * 20)  # wait for completion"
   ]
  },
  {
   "cell_type": "code",
   "execution_count": null,
   "metadata": {},
   "outputs": [],
   "source": [
    "# delete pipeline\n",
    "client.delete_pipeline(pipeline.id)  # delete the uploaded pipeline"
   ]
  }
 ]
}