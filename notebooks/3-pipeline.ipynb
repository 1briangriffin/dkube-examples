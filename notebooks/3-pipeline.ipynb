{
 "metadata": {
  "language_info": {
   "codemirror_mode": {
    "name": "ipython",
    "version": 3
   },
   "file_extension": ".py",
   "mimetype": "text/x-python",
   "name": "python",
   "nbconvert_exporter": "python",
   "pygments_lexer": "ipython3",
   "version": "3.8.2"
  },
  "orig_nbformat": 2,
  "kernelspec": {
   "name": "python3",
   "display_name": "Python 3.8.2 64-bit ('env')"
  },
  "interpreter": {
   "hash": "db4a26a6e7581a6370cdb3ad81c0da3dfce9ad4bcf105d2a6978f02401bba8c3"
  }
 },
 "nbformat": 4,
 "nbformat_minor": 2,
 "cells": [
  {
   "cell_type": "code",
   "execution_count": null,
   "source": [
    "#pip install kfp==1.8.9 --user"
   ],
   "outputs": [],
   "metadata": {}
  },
  {
   "cell_type": "code",
   "execution_count": null,
   "source": [
    "import os, json\n",
    "import ssl\n",
    "import tempfile\n",
    "import kfp"
   ],
   "outputs": [],
   "metadata": {}
  },
  {
   "cell_type": "code",
   "execution_count": null,
   "source": [
    "URL = os.getenv(\"DKUBE_URL\")  # DKube UI URL\n",
    "token = os.environ.get(\"DKUBE_USER_ACCESS_TOKEN\")  # DKube OAuth token from UI\n",
    "ssl.CERT_REQUIRED = ssl.CERT_NONE      # workaround if above URL is not signed by a trusted CA\n",
    "\n",
    "client = kfp.Client(host=URL + \"/pipeline\", client_id=\"1\", existing_token=token, namespace=os.getenv('USERNAME'))"
   ],
   "outputs": [],
   "metadata": {}
  },
  {
   "cell_type": "code",
   "execution_count": null,
   "source": [
    "@kfp.dsl.pipeline(name=\"test\", description=\"pipeline with 1 echo component\")\n",
    "def test_pipeline():\n",
    "    kfp.dsl.ContainerOp(\"echo\", image=\"bash\", command=[\"echo\", \"hello\"])"
   ],
   "outputs": [],
   "metadata": {}
  },
  {
   "cell_type": "code",
   "execution_count": null,
   "source": [
    "# compile\n",
    "f = tempfile.NamedTemporaryFile(suffix=\".zip\", delete=False)\n",
    "kfp.compiler.Compiler().compile(test_pipeline, f.name)"
   ],
   "outputs": [],
   "metadata": {}
  },
  {
   "cell_type": "code",
   "execution_count": null,
   "source": [
    "# upload\n",
    "pipeline = client.upload_pipeline(f.name, pipeline_name=\"test pipeline\")"
   ],
   "outputs": [],
   "metadata": {}
  },
  {
   "cell_type": "code",
   "execution_count": null,
   "source": [
    "#create experiment to group pipeline runs\n",
    "experiment = client.create_experiment(name=\"training\", namespace=os.getenv('USERNAME'))"
   ],
   "outputs": [],
   "metadata": {}
  },
  {
   "cell_type": "code",
   "execution_count": null,
   "source": [
    "# run\n",
    "run = client.run_pipeline(experiment.id, \"test pipeline run1\", pipeline_id=pipeline.id, params={})\n",
    "# wait for completion\n",
    "r=client.wait_for_run_completion(run.id, 60 * 20) "
   ],
   "outputs": [],
   "metadata": {}
  },
  {
   "cell_type": "code",
   "execution_count": null,
   "source": [
    "#Upload new version of a pipeline. modify the test_pipeline cell and compile it again.\n",
    "pipeline_id=client.get_pipeline_id(\"test pipeline\")\n",
    "new_pipline=client.upload_pipeline_version(f.name, 'Another version', pipeline_id=pipeline.id)"
   ],
   "outputs": [],
   "metadata": {}
  },
  {
   "cell_type": "code",
   "execution_count": null,
   "source": [
    "#run a particular version\n",
    "versions = client.list_pipeline_versions(pipeline_id).versions\n",
    "run = client.run_pipeline(experiment.id, \"test pipeline run2\", version_id=versions[1].id, params={})"
   ],
   "outputs": [],
   "metadata": {}
  },
  {
   "cell_type": "code",
   "execution_count": null,
   "source": [
    "# delete pipeline\n",
    "client.delete_pipeline(pipeline.id) "
   ],
   "outputs": [],
   "metadata": {}
  }
 ]
}