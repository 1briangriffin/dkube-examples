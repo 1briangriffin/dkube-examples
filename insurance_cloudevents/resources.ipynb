{
 "cells": [
  {
   "cell_type": "markdown",
   "metadata": {},
   "source": [
    "#### Defined by User"
   ]
  },
  {
   "cell_type": "code",
   "execution_count": null,
   "metadata": {},
   "outputs": [],
   "source": [
    "import os\n",
    "\n",
    "SEPERATE_SERVING_MONITORING_CLUSTER = False\n",
    "\n",
    "# IP of the DKube setup where inference will be running \n",
    "# without https:// and without port number eg: 1.2.3.4\n",
    "# It's required to fetch cloudevents secrets\n",
    "SERVING_DKUBE_IP = \"192.168.200.146\"\n",
    "\n",
    "## Dkube information of serving cluster\n",
    "SERVING_DKUBE_USERNAME = os.getenv(\"DKUBE_USER_LOGIN_NAME\",\"\")\n",
    "\n",
    "SERVING_DKUBE_TOKEN = os.getenv(\"DKUBE_USER_ACCESS_TOKEN\",\"\")\n",
    "\n",
    "## Serving Dkube URL with expernal IP\n",
    "SERVING_DKUBE_URL = \"https://192.168.200.146:32222\"\n",
    "\n",
    "\n",
    "## Dkube information of monitoring cluster\n",
    "## The following values are not required if \n",
    "## monitoring and serving is running in same Dkube Cluster\n",
    "MONITORING_DKUBE_USERNAME = \"\"\n",
    "\n",
    "MONITORING_DKUBE_TOKEN = \"\"\n",
    "\n",
    "MONITORING_DKUBE_URL = \"\"\n",
    "\n",
    "## name of serving cluster\n",
    "SERVING_DKUBE_CLUSTER_NAME = \"\"\n",
    "\n",
    "## Define the model monitor name here that you will be creating \n",
    "MONITOR_NAME = \"insurance-mm-kf\"\n",
    "\n",
    "# Required in train.ipynb to retrain the model\n",
    "DKUBE_TRAINING_CODE_NAME = \"monitoring-examples\"\n",
    "\n",
    "LIVE_DATASET =  MONITOR_NAME+'-s3'\n",
    "\n",
    "MINIO_ENDPOINT = f\"http://{SERVING_DKUBE_IP}:32221\"\n",
    "\n",
    "TRAINING_DATASET = 'insurance-training-data'\n",
    "## Inference URL\n",
    "INFERENCE_URL = None\n",
    "\n",
    "# dataset to be used as training data\n",
    "DKUBE_BASE_DATASET = \"insurance-data\"\n",
    "\n",
    "# Model name to be created or used for example, it will create the model\n",
    "# if not existing otherwise it will ignore creation.\n",
    "MODEL_NAME = MONITOR_NAME\n",
    "\n",
    "# the frequency with which monitoring will run, value will be considered in minutes\n",
    "RUN_FREQUENCY = 5\n",
    "\n",
    "if not(SERVING_DKUBE_TOKEN and SERVING_DKUBE_USERNAME and SERVING_DKUBE_URL and SERVING_DKUBE_IP):\n",
    "    raise Exception(\"Please fill the Serving Dkube details first (SERVING_DKUBE_TOKEN, SERVING_DKUBE_URL, SERVING_DKUBE_USERNAME, SERVING_DKUBE_IP)\")\n",
    "    \n",
    "if (SEPERATE_SERVING_MONITORING_CLUSTER\n",
    "   and\n",
    "   not(MONITORING_DKUBE_USERNAME and MONITORING_DKUBE_TOKEN and MONITORING_DKUBE_URL and SERVING_DKUBE_CLUSTER_NAME)):\n",
    "    raise Exception(\"Please fill the Monitoring Dkube details first (MONITORING_DKUBE_USERNAME, MONITORING_DKUBE_TOKEN, MONITORING_DKUBE_URL, SERVING_DKUBE_CLUSTER_NAME)\")"
   ]
  },
  {
   "cell_type": "markdown",
   "metadata": {},
   "source": [
    "#### Dkube Resources"
   ]
  },
  {
   "cell_type": "code",
   "execution_count": null,
   "metadata": {},
   "outputs": [],
   "source": [
    "import time,json\n",
    "from dkube.sdk import *"
   ]
  },
  {
   "cell_type": "code",
   "execution_count": null,
   "metadata": {},
   "outputs": [],
   "source": [
    "serving_api = DkubeApi(URL=SERVING_DKUBE_URL,token=SERVING_DKUBE_TOKEN)\n",
    "if SERVING_DKUBE_USERNAME == serving_api.validate_token()['username']:\n",
    "    pass\n",
    "else:\n",
    "    print(\"Invalid User, please check your username, first\")"
   ]
  },
  {
   "cell_type": "code",
   "execution_count": null,
   "metadata": {},
   "outputs": [],
   "source": [
    "response =  serving_api.get_cloudevents_logstore_creds()\n",
    "MINIO_KEY = response[\"access_key_id\"]\n",
    "MINIO_SECRET_KEY = response[\"access_key\"]\n",
    "MINIO_BUCKET = response[\"bucket\"]"
   ]
  },
  {
   "cell_type": "code",
   "execution_count": null,
   "metadata": {},
   "outputs": [],
   "source": [
    "data = serving_api.get_modelmonitor_id(MONITOR_NAME)\n",
    "if data.data:\n",
    "    MONITOR_ID = data.data.get(MONITOR_NAME)\n",
    "    if MONITOR_ID:\n",
    "        raise ValueError(f\"{MONITOR_NAME} already existing please use a different name\")"
   ]
  },
  {
   "cell_type": "code",
   "execution_count": null,
   "metadata": {},
   "outputs": [],
   "source": [
    "INPUT_TRAIN_TYPE = \"training\"\n",
    "cld_config = {\"SEPERATE_SERVING_MONITORING_CLUSTER\":SEPERATE_SERVING_MONITORING_CLUSTER,\n",
    "              \"MONITOR_NAME\":MONITOR_NAME,\n",
    "              \"INPUT_TRAIN_TYPE\":INPUT_TRAIN_TYPE, \"SERVING_DKUBE_USERNAME\":SERVING_DKUBE_USERNAME,\n",
    "              \"SERVING_DKUBE_URL\":SERVING_DKUBE_URL, \"SERVING_DKUBE_TOKEN\":SERVING_DKUBE_TOKEN, \n",
    "              \"MINIO_KEY\":MINIO_KEY,\"MINIO_SECRET_KEY\":MINIO_SECRET_KEY, \"MINIO_ENDPOINT\":MINIO_ENDPOINT,\n",
    "              \"MINIO_BUCKET\": MINIO_BUCKET,\n",
    "              \"DKUBE_BASE_DATASET\":DKUBE_BASE_DATASET, \"MODEL_NAME\":MODEL_NAME,\n",
    "              \"TRAINING_DATASET\":TRAINING_DATASET, \"RUN_FREQUENCY\":RUN_FREQUENCY,\n",
    "              \"DKUBE_TRAINING_CODE_NAME\":DKUBE_TRAINING_CODE_NAME,\n",
    "              \"LIVE_DATASET\":LIVE_DATASET,\n",
    "              \"MONITORING_DKUBE_USERNAME\":MONITORING_DKUBE_USERNAME, \"MONITORING_DKUBE_TOKEN\":MONITORING_DKUBE_TOKEN,\n",
    "              \"MONITORING_DKUBE_URL\":MONITORING_DKUBE_URL,\n",
    "              \"SERVING_DKUBE_CLUSTER_NAME\":SERVING_DKUBE_CLUSTER_NAME}\n",
    "%store cld_config"
   ]
  },
  {
   "cell_type": "markdown",
   "metadata": {},
   "source": [
    "#### Dataset"
   ]
  },
  {
   "cell_type": "code",
   "execution_count": null,
   "metadata": {},
   "outputs": [],
   "source": [
    "try:\n",
    "    dataset = DkubeDataset(SERVING_DKUBE_USERNAME, name=DKUBE_BASE_DATASET)\n",
    "    dataset.update_git_details(url=\"https://dkube-examples-data.s3.us-west-2.amazonaws.com/monitoring-insurance/training-data/insurance.csv\")\n",
    "    dataset.update_dataset_source(source=\"pub_url\")\n",
    "    serving_api.create_dataset(dataset)\n",
    "except Exception as e:\n",
    "    if e.reason.lower()!=\"conflict\":\n",
    "        response = e.body\n",
    "        print(f\"Failed[{response.code}]: {response.message}\")\n",
    "try:\n",
    "    dataset = DkubeDataset(SERVING_DKUBE_USERNAME, name=TRAINING_DATASET)\n",
    "    dataset.update_dataset_source(source=\"dvs\")\n",
    "    serving_api.create_dataset(dataset)\n",
    "except Exception as e:\n",
    "    if e.reason.lower()!=\"conflict\":\n",
    "        response = e.body\n",
    "        print(f\"Failed[{response.code}]: {response.message}\")"
   ]
  },
  {
   "cell_type": "markdown",
   "metadata": {},
   "source": [
    "\n",
    "#### Model"
   ]
  },
  {
   "cell_type": "code",
   "execution_count": null,
   "metadata": {},
   "outputs": [],
   "source": [
    "try:\n",
    "    model = DkubeModel(SERVING_DKUBE_USERNAME, name=MODEL_NAME)\n",
    "    model.update_model_source(source='dvs')\n",
    "    serving_api.create_model(model)\n",
    "except Exception as e:\n",
    "    if e.reason:\n",
    "        if e.reason.lower() != \"conflict\":\n",
    "            response = e.body\n",
    "            print(f\"Failed[{response.code}]: {response.message}\")\n",
    "    else:\n",
    "        raise e"
   ]
  },
  {
   "cell_type": "markdown",
   "metadata": {},
   "source": [
    "## Checking for seperate monitoring cluster and adding datasets accordingly."
   ]
  },
  {
   "cell_type": "code",
   "execution_count": null,
   "metadata": {},
   "outputs": [],
   "source": [
    "if SEPERATE_SERVING_MONITORING_CLUSTER:\n",
    "    monitoring_api = DkubeApi(URL=MONITORING_DKUBE_URL,token=MONITORING_DKUBE_TOKEN)\n",
    "    try:\n",
    "        dataset = DkubeDataset(MONITORING_DKUBE_USERNAME, name=DKUBE_BASE_DATASET)\n",
    "        dataset.update_git_details(url=\"https://dkube-examples-data.s3.us-west-2.amazonaws.com/monitoring-insurance/training-data/insurance.csv\")\n",
    "        dataset.update_dataset_source(source=\"pub_url\")\n",
    "        monitoring_api.create_dataset(dataset)\n",
    "    except Exception as e:\n",
    "        if e.reason.lower()!=\"conflict\":\n",
    "            response = e.body\n",
    "            print(f\"Failed[{response.code}]: {response.message}\")"
   ]
  },
  {
   "cell_type": "markdown",
   "metadata": {},
   "source": [
    "### Model Monitor Datasets"
   ]
  },
  {
   "cell_type": "markdown",
   "metadata": {},
   "source": [
    "##### Predict and labelled Dataset"
   ]
  },
  {
   "cell_type": "code",
   "execution_count": null,
   "metadata": {},
   "outputs": [],
   "source": [
    "if SEPERATE_SERVING_MONITORING_CLUSTER:\n",
    "    api = monitoring_api  \n",
    "    user = MONITORING_DKUBE_USERNAME\n",
    "else:\n",
    "    api = serving_api\n",
    "    user = SERVING_DKUBE_USERNAME"
   ]
  },
  {
   "cell_type": "code",
   "execution_count": null,
   "metadata": {},
   "outputs": [],
   "source": [
    "try:\n",
    "    dataset = DkubeDataset(user, name=LIVE_DATASET,remote=True)\n",
    "    dataset.update_dataset_source('s3')\n",
    "    dataset.update_s3_details(\n",
    "        endpoint = MINIO_ENDPOINT,\n",
    "        bucket=MINIO_BUCKET,\n",
    "        prefix='',\n",
    "        key=MINIO_KEY,\n",
    "        secret=MINIO_SECRET_KEY)\n",
    "    api.create_dataset(dataset)\n",
    "\n",
    "except Exception as e:\n",
    "    if e.reason:\n",
    "        if e.reason.lower() != \"conflict\":\n",
    "            response = e.body\n",
    "            print(f\"Failed[{response.code}]: {response.message}\")\n",
    "    else:\n",
    "        raise e"
   ]
  },
  {
   "cell_type": "markdown",
   "metadata": {},
   "source": [
    "#### Cleanup"
   ]
  },
  {
   "cell_type": "code",
   "execution_count": null,
   "metadata": {},
   "outputs": [],
   "source": [
    "## Set CLEANUP = True, after your experiment is complete.\n",
    "CLEANUP = False\n",
    "if CLEANUP:\n",
    "    serving_api.delete_dataset(SERVING_DKUBE_USERNAME,DKUBE_BASE_DATASET,force=True)\n",
    "    serving_api.delete_dataset(SERVING_DKUBE_USERNAME,TRAINING_DATASET,force=True)\n",
    "    serving_api.delete_dataset(SERVING_DKUBE_USERNAME,LIVE_DATASET,force=True)\n",
    "    serving_api.delete_model(DKUBEUSERNAME,MODEL_NAME,force=True)\n",
    "    %store -d cld_config"
   ]
  },
  {
   "cell_type": "code",
   "execution_count": null,
   "metadata": {},
   "outputs": [],
   "source": []
  }
 ],
 "metadata": {
  "interpreter": {
   "hash": "916dbcbb3f70747c44a77c7bcd40155683ae19c65e1c03b4aa3499c5328201f1"
  },
  "kernelspec": {
   "display_name": "Python 3",
   "language": "python",
   "name": "python3"
  },
  "language_info": {
   "codemirror_mode": {
    "name": "ipython",
    "version": 3
   },
   "file_extension": ".py",
   "mimetype": "text/x-python",
   "name": "python",
   "nbconvert_exporter": "python",
   "pygments_lexer": "ipython3",
   "version": "3.6.8"
  }
 },
 "nbformat": 4,
 "nbformat_minor": 4
}
