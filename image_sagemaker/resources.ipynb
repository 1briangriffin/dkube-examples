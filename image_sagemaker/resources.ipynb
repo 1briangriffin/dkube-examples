{
 "cells": [
  {
   "cell_type": "code",
   "execution_count": null,
   "metadata": {},
   "outputs": [],
   "source": [
    "import os\n",
    "from time import gmtime, strftime"
   ]
  },
  {
   "cell_type": "markdown",
   "metadata": {},
   "source": [
    "#### Defined by User"
   ]
  },
  {
   "cell_type": "code",
   "execution_count": null,
   "metadata": {},
   "outputs": [],
   "source": [
    "## specify your Dkube username\n",
    "DKUBEUSERNAME = \"ocdkube\"\n",
    "\n",
    "## Define the model monitor name here that you will be creating \n",
    "MONITOR_NAME = \"image-mm-sgmkr-\" + strftime(\"%Y-%m-%d-%H-%M-%S\", gmtime())\n",
    "## Specify the data source\n",
    "\n",
    "PREFIX = \"sagemaker/Demo-ImageModelMonitor\"\n",
    "\n",
    "## Dkube information\n",
    "TOKEN = os.getenv(\"DKUBE_USER_ACCESS_TOKEN\",\"\")\n",
    "DKUBE_URL = os.getenv(\"DKUBE_URL\",\"\")\n",
    "DKUBE_TRAINING_CODE_NAME = \"monitoring-examples\"\n",
    "\n",
    "### Specify Sagemaker details\n",
    "BUCKET = os.getenv(\"BUCKET\",\"\")\n",
    "ROLE = os.getenv(\"ROLE\",\"\")\n",
    "REGION_NAME = os.getenv(\"REGION_NAME\",\"\")\n",
    "\n",
    "ACCESS_KEY = os.getenv(\"AWS_ACCESS_KEY_ID\",\"\")\n",
    "SECRET_KEY = os.getenv(\"AWS_SECRET_ACCESS_KEY\",\"\")\n",
    "\n",
    "\n",
    "### Dkube cluster \n",
    "SAGEMAKER_DKUBE_CLUSTER_NAME = \"aws-sagemaker-cluster\"\n",
    "\n",
    "# dataset to be used as training data\n",
    "TRAINING_DATASET = 'chest-xray'\n",
    "\n",
    "# the frequency with which monitoring will run\n",
    "RUN_FREQUENCY = 5\n",
    "\n",
    "LIVE_DATASET = MONITOR_NAME+'-aws'\n",
    "\n",
    "if TOKEN == '' or DKUBEUSERNAME == '' or DKUBE_URL == '':\n",
    "    raise TypeError(\"Please fill the Dkube details first (TOKEN, DKUBE_URL, DKUBEUSERNAME)\")\n",
    "if ACCESS_KEY=='' or SECRET_KEY=='' or ROLE=='' or REGION_NAME=='' or BUCKET=='':\n",
    "    raise TypeError(\"Please fill the AWS_S3 details first (ACCESS_KEY, SECRET_KEY, ROLE, REGION_NAME, BUCKET)\")"
   ]
  },
  {
   "cell_type": "code",
   "execution_count": null,
   "metadata": {},
   "outputs": [],
   "source": [
    "image_sgmkr_config = {\"MONITOR_NAME\":MONITOR_NAME, \"DKUBEUSERNAME\":DKUBEUSERNAME,\n",
    "                      \"TOKEN\":TOKEN, \"DKUBE_URL\":DKUBE_URL, \"ACCESS_KEY\":ACCESS_KEY,\n",
    "                      \"SECRET_KEY\":SECRET_KEY, \"TRAINING_DATASET\":TRAINING_DATASET,\n",
    "                      \"LIVE_DATASET\":LIVE_DATASET,\n",
    "                      \"RUN_FREQUENCY\":RUN_FREQUENCY, \"DKUBE_TRAINING_CODE_NAME\":DKUBE_TRAINING_CODE_NAME,\n",
    "                      \"BUCKET\":BUCKET, \"PREFIX\":PREFIX, \"ROLE\":ROLE, \"REGION_NAME\":REGION_NAME,\n",
    "                      \"SAGEMAKER_DKUBE_CLUSTER_NAME\":SAGEMAKER_DKUBE_CLUSTER_NAME}\n",
    "%store image_sgmkr_config"
   ]
  },
  {
   "cell_type": "markdown",
   "metadata": {},
   "source": [
    "#### Dkube Resources"
   ]
  },
  {
   "cell_type": "code",
   "execution_count": null,
   "metadata": {},
   "outputs": [],
   "source": [
    "import time,json,shutil\n",
    "from dkube.sdk import *"
   ]
  },
  {
   "cell_type": "code",
   "execution_count": null,
   "metadata": {},
   "outputs": [],
   "source": [
    "api = DkubeApi(URL=DKUBE_URL,token=TOKEN)\n",
    "if DKUBEUSERNAME == api.validate_token()['username']:\n",
    "    pass\n",
    "else:\n",
    "    print(\"Invalid User, please check your username, first\")"
   ]
  },
  {
   "cell_type": "markdown",
   "metadata": {},
   "source": [
    "#### Dataset"
   ]
  },
  {
   "cell_type": "code",
   "execution_count": null,
   "metadata": {},
   "outputs": [],
   "source": [
    "try:\n",
    "    dataset = DkubeDataset(DKUBEUSERNAME, name=TRAINING_DATASET)\n",
    "    dataset.update_dataset_source(source=\"git\")\n",
    "    dataset.update_git_details(url=\"https://github.com/oneconvergence/dkube-examples/tree/monitoring/image_cloudevents/data/chest-xray-mini\")\n",
    "    api.create_dataset(dataset)\n",
    "except Exception as e:\n",
    "    if e.reason.lower()!=\"conflict\":\n",
    "        response = e.body\n",
    "        print(f\"Failed[{response.code}]: {response.message}\")"
   ]
  },
  {
   "cell_type": "markdown",
   "metadata": {},
   "source": [
    "### Model Monitor Datasets"
   ]
  },
  {
   "cell_type": "markdown",
   "metadata": {},
   "source": [
    "##### Labelled Dataset"
   ]
  },
  {
   "cell_type": "code",
   "execution_count": null,
   "metadata": {},
   "outputs": [],
   "source": [
    "try:\n",
    "    dataset = DkubeDataset(DKUBEUSERNAME, name=LIVE_DATASET,remote=True)\n",
    "    dataset.update_dataset_source('aws_s3')\n",
    "    dataset.update_awss3_details(bucket=BUCKET,prefix='',\n",
    "                                key=os.getenv(\"AWS_ACCESS_KEY_ID\",ACCESS_KEY),\n",
    "                                secret=os.getenv(\"AWS_SECRET_ACCESS_KEY\",SECRET_KEY))\n",
    "    api.create_dataset(dataset)\n",
    "except Exception as e:\n",
    "    if e.reason:\n",
    "        if e.reason.lower() != \"conflict\":\n",
    "            response = e.body\n",
    "            print(f\"Failed[{response.code}]: {response.message}\")\n",
    "    else:\n",
    "        raise e"
   ]
  },
  {
   "cell_type": "markdown",
   "metadata": {},
   "source": [
    "#### Cleanup"
   ]
  },
  {
   "cell_type": "code",
   "execution_count": null,
   "metadata": {},
   "outputs": [],
   "source": [
    "## Set CLEANUP = True, after your experiment is complete.\n",
    "CLEANUP = False\n",
    "if CLEANUP:\n",
    "    api.delete_dataset(DKUBEUSERNAME,TRAINING_DATASET,force=True)\n",
    "    api.delete_dataset(DKUBEUSERNAME,LIVE_DATASET)\n",
    "    %store -d image_sgmkr_config"
   ]
  }
 ],
 "metadata": {
  "interpreter": {
   "hash": "916dbcbb3f70747c44a77c7bcd40155683ae19c65e1c03b4aa3499c5328201f1"
  },
  "kernelspec": {
   "display_name": "Python 3",
   "language": "python",
   "name": "python3"
  },
  "language_info": {
   "codemirror_mode": {
    "name": "ipython",
    "version": 3
   },
   "file_extension": ".py",
   "mimetype": "text/x-python",
   "name": "python",
   "nbconvert_exporter": "python",
   "pygments_lexer": "ipython3",
   "version": "3.6.8"
  }
 },
 "nbformat": 4,
 "nbformat_minor": 4
}
