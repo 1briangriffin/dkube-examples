{
 "cells": [
  {
   "cell_type": "code",
   "execution_count": 1,
   "metadata": {},
   "outputs": [],
   "source": [
    "import os\n",
    "from sklearn.model_selection import train_test_split\n",
    "from sklearn import preprocessing as skpreprocessing\n",
    "from sklearn.preprocessing import StandardScaler\n",
    "import mlflow\n",
    "from mlflow.models.signature import infer_signature\n",
    "import pandas as pd\n",
    "\n",
    "import tensorflow as tf\n",
    "from tensorflow import keras\n",
    "from tensorflow.keras import layers\n",
    "\n",
    "import warnings\n",
    "warnings.filterwarnings(\"ignore\")\n",
    "import requests, argparse\n",
    "requests.packages.urllib3.disable_warnings()"
   ]
  },
  {
   "cell_type": "markdown",
   "metadata": {},
   "source": [
    "### MACROS"
   ]
  },
  {
   "cell_type": "code",
   "execution_count": 2,
   "metadata": {},
   "outputs": [],
   "source": [
    "NUM_EPOCHS = int(os.getenv(\"EPOCHS\", 10))\n",
    "\n",
    "LEARNING_RATE = float(os.getenv(\"LEARNING_RATE\", 0.01))\n",
    "\n",
    "MLFLOW_EXPERIMENT_NAME = os.getenv('DKUBE_PROJECT_NAME')\n",
    "\n",
    "#DATASET_URL could be specified as Environment parameters at the time of creating JL or Run\n",
    "\n",
    "# Define data\n",
    "INPUT_DATA_URL = os.getenv(\"DATASET_URL\", \"https://dkube-examples-data.s3.us-west-2.amazonaws.com/monitoring-insurance/training-data/insurance.csv\")\n",
    "\n",
    "\n",
    "# Keep track of models.\n",
    "OUTPUT_MODEL_DIR = os.getcwd()+\"/model_mlflow\"\n",
    "\n",
    "\n",
    "## create OUTPUT_MODEL_DIR\n",
    "if not os.path.exists(OUTPUT_MODEL_DIR):\n",
    "    os.makedirs(OUTPUT_MODEL_DIR)"
   ]
  },
  {
   "cell_type": "markdown",
   "metadata": {},
   "source": [
    "#### MLFLOW TRACKING INITIALIZATION"
   ]
  },
  {
   "cell_type": "code",
   "execution_count": 3,
   "metadata": {},
   "outputs": [],
   "source": [
    "if MLFLOW_EXPERIMENT_NAME:\n",
    "    exp = mlflow.get_experiment_by_name(MLFLOW_EXPERIMENT_NAME)\n",
    "    if not exp:\n",
    "        print(\"Creating experiment...\")\n",
    "        mlflow.create_experiment(MLFLOW_EXPERIMENT_NAME)\n",
    "    mlflow.set_experiment(experiment_name=MLFLOW_EXPERIMENT_NAME)"
   ]
  },
  {
   "cell_type": "code",
   "execution_count": 5,
   "metadata": {},
   "outputs": [
    {
     "name": "stdout",
     "output_type": "stream",
     "text": [
      "      Unnamed: 0     sex     bmi  children smoker     region       charges  \\\n",
      "0              0  female  25.900       1.0     no  southwest   5472.449000   \n",
      "1              1  female  34.105       3.0    yes  northwest  39983.425950   \n",
      "2              2    male  18.335       0.0     no  northeast  11534.872650   \n",
      "3              3    male  26.125       0.0     no  northeast   7961.535122   \n",
      "4              4    male  37.000       0.0     no  southwest   8798.593000   \n",
      "...          ...     ...     ...       ...    ...        ...           ...   \n",
      "2403        2403  female  25.740       0.0     no  southeast   3756.621600   \n",
      "2404        2404    male  31.570       3.0     no  southeast   4837.582300   \n",
      "2405        2405    male  30.780       2.0     no  northeast   3162.932961   \n",
      "2406        2406    male  28.975       3.0    yes  northeast  21897.159288   \n",
      "2407        2407    male  35.200       1.0     no  southwest   2416.955000   \n",
      "\n",
      "                         timestamp                             unique_id  \n",
      "0     '2021-08-04 03:03:02.000000'  a8d0a4a0-4b43-4c5e-968b-6de2df69ea12  \n",
      "1     '2021-08-04 00:05:24.000000'  88f7ee4b-7583-4fe5-b48e-899bebe7dc23  \n",
      "2     '2021-08-04 04:44:44.000000'  da6ab892-3af3-4503-baa2-b148c7f1cf3b  \n",
      "3     '2021-08-04 05:02:30.000000'  9b4a32ac-0a57-40cf-9697-c0c1a8c83def  \n",
      "4     '2021-08-04 03:22:38.000000'  fe908667-840f-485b-a8d3-19234b0c8596  \n",
      "...                            ...                                   ...  \n",
      "2403  '2021-08-04 02:06:35.000000'  4316de04-d643-469a-b426-2b92a159ae78  \n",
      "2404  '2021-08-04 00:05:56.000000'  1389f2d8-e795-4ee6-b484-41f80ed3899b  \n",
      "2405  '2021-08-04 06:46:33.000000'  c76d936d-5c98-4d3c-afa2-6efce49e4b09  \n",
      "2406  '2021-08-04 01:59:03.000000'  82aa6847-388f-4097-9c89-867324645a38  \n",
      "2407  '2021-08-04 08:06:53.000000'  e213f3ff-cd50-4bb7-83c2-4187044dc186  \n",
      "\n",
      "[2408 rows x 9 columns]\n",
      "Completed Label encoding on sex\n",
      "Completed Label encoding on smoker\n",
      "Completed Label encoding on region\n"
     ]
    }
   ],
   "source": [
    "data = pd.read_csv('/input/dataset/insurance.csv')\n",
    "insurance_input = data.drop(['charges','timestamp','unique_id'],axis=1)\n",
    "insurance_target = data['charges']\n",
    "    \n",
    "for col in ['sex', 'smoker', 'region']:\n",
    "    if (insurance_input[col].dtype == 'object'):\n",
    "        le = skpreprocessing.LabelEncoder()\n",
    "        le = le.fit(insurance_input[col])\n",
    "        insurance_input[col] = le.transform(insurance_input[col])\n",
    "        print('Completed Label encoding on',col)\n",
    "        \n",
    "#standardize data\n",
    "x_scaled = StandardScaler().fit_transform(insurance_input)\n",
    "x_train, x_test, y_train, y_test = train_test_split(x_scaled,\n",
    "                                                    insurance_target.values,\n",
    "                                                    test_size = 0.25,\n",
    "                                                    random_state=1211)"
   ]
  },
  {
   "cell_type": "code",
   "execution_count": 6,
   "metadata": {},
   "outputs": [],
   "source": [
    "tf.random.set_seed(42)  #first we set random seed\n",
    "model = keras.Sequential([\n",
    "      layers.InputLayer(input_shape=(6)),\n",
    "      layers.Dense(64, activation='relu'),\n",
    "      layers.Dense(64, activation='relu'),\n",
    "      layers.Dense(1)\n",
    "  ])\n",
    "\n",
    "model.compile(loss='mean_absolute_error',\n",
    "            optimizer=tf.keras.optimizers.Adam(lr=LEARNING_RATE))"
   ]
  },
  {
   "cell_type": "code",
   "execution_count": 7,
   "metadata": {},
   "outputs": [],
   "source": [
    "# mlflow metric logging\n",
    "class loggingCallback(keras.callbacks.Callback):\n",
    "    def on_epoch_end(self, epoch, logs=None):\n",
    "        mlflow.log_metric(\"train_loss\", logs[\"loss\"], step=epoch)\n",
    "        mlflow.log_metric(\"val_loss\", logs[\"val_loss\"], step=epoch)\n",
    "        # output accuracy metric for katib to collect from stdout\n",
    "        print(f\"loss={round(logs['loss'],2)}\")"
   ]
  },
  {
   "cell_type": "markdown",
   "metadata": {},
   "source": [
    "#### ML TRAINING"
   ]
  },
  {
   "cell_type": "code",
   "execution_count": 8,
   "metadata": {},
   "outputs": [
    {
     "name": "stdout",
     "output_type": "stream",
     "text": [
      "loss=13196.65\n",
      "loss=10517.24\n",
      "loss=7761.93\n",
      "loss=7011.79\n",
      "loss=6878.52\n",
      "loss=6823.34\n",
      "loss=6794.45\n",
      "loss=6775.81\n",
      "loss=6763.17\n",
      "loss=6740.66\n",
      "WARNING:tensorflow:From /usr/local/lib/python3.7/dist-packages/tensorflow_core/python/ops/resource_variable_ops.py:1781: calling BaseResourceVariable.__init__ (from tensorflow.python.ops.resource_variable_ops) with constraint is deprecated and will be removed in a future version.\n",
      "Instructions for updating:\n",
      "If using Keras pass *_constraint arguments to layers.\n",
      "INFO:tensorflow:Assets written to: /home/larryc1200/workspace/ins-larryc1200-pre/insurance/model_mlflow/1/assets\n",
      "INFO:tensorflow:Assets written to: /tmp/tmpz1q4oklw/model/data/model/assets\n",
      "Training Complete !\n"
     ]
    }
   ],
   "source": [
    "with mlflow.start_run(run_name=\"insurance\") as run:\n",
    "    \n",
    "    model.fit(x_train, y_train, epochs = NUM_EPOCHS, verbose=0,\n",
    "                validation_split=0.1, callbacks=[loggingCallback()])\n",
    "    \n",
    "    # Exporting model\n",
    "    model.save(filepath=os.path.join(OUTPUT_MODEL_DIR, '1'))\n",
    "    \n",
    "    # Two ways to save model - log_artifacts() or log_model()\n",
    "    mlflow.log_artifacts(OUTPUT_MODEL_DIR) ## For tf-serving\n",
    "    signature = infer_signature(x_test, model.predict(x_test))\n",
    "    mlflow.keras.log_model(keras_model=model, artifact_path=None, signature=signature)\n",
    "        \n",
    "    # Record parameters\n",
    "    mlflow.log_params({\"dataset\": '/input/data/insurance.csv',\n",
    "                       \"code\": \"https://github.com/oneconvergence/dkube-examples/tree/training/insurance\",\n",
    "                       \"model\": \"Deep Neural Network\"})\n",
    "    \n",
    "print(\"Training Complete !\")"
   ]
  },
  {
   "cell_type": "code",
   "execution_count": null,
   "metadata": {},
   "outputs": [],
   "source": []
  }
 ],
 "metadata": {
  "kernelspec": {
   "display_name": "Python 3",
   "language": "python",
   "name": "python3"
  },
  "language_info": {
   "codemirror_mode": {
    "name": "ipython",
    "version": 3
   },
   "file_extension": ".py",
   "mimetype": "text/x-python",
   "name": "python",
   "nbconvert_exporter": "python",
   "pygments_lexer": "ipython3",
   "version": "3.7.5"
  },
  "vscode": {
   "interpreter": {
    "hash": "aee8b7b246df8f9039afb4144a1f6fd8d2ca17a180786b69acc140d282b71a49"
   }
  }
 },
 "nbformat": 4,
 "nbformat_minor": 4
}
