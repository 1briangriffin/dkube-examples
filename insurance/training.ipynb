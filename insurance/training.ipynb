{
 "cells": [
  {
   "cell_type": "code",
   "execution_count": 1,
   "metadata": {},
   "outputs": [],
   "source": [
    "import os\n",
    "import time\n",
    "import random\n",
    "import string\n",
    "from dkube.sdk import mlflow as dkubemlf\n",
    "\n",
    "import numpy as np,os\n",
    "import joblib\n",
    "from sklearn.model_selection import train_test_split\n",
    "from sklearn.metrics import accuracy_score\n",
    "from sklearn import linear_model\n",
    "from sklearn import preprocessing as skpreprocessing\n",
    "from sklearn.linear_model import SGDRegressor   \n",
    "from sklearn.preprocessing import StandardScaler\n",
    "import mlflow\n",
    "import pandas as pd\n",
    "from sklearn import metrics\n",
    "import joblib\n",
    "\n",
    "import requests\n",
    "requests.packages.urllib3.disable_warnings()\n",
    "\n",
    "import warnings\n",
    "warnings.filterwarnings(\"ignore\")"
   ]
  },
  {
   "cell_type": "markdown",
   "metadata": {},
   "source": [
    "### MACROS"
   ]
  },
  {
   "cell_type": "code",
   "execution_count": 7,
   "metadata": {},
   "outputs": [
    {
     "data": {
      "text/plain": [
       "'insurance'"
      ]
     },
     "execution_count": 7,
     "metadata": {},
     "output_type": "execute_result"
    }
   ],
   "source": [
    "# Define where the input data dir and model output dir are\n",
    "INPUT_DATA_DIR = \"/mnt/data\"\n",
    "OUTPUT_MODEL_DIR = \"/mnt/model\"\n",
    "NUM_EPOCHS = os.getenv(\"EPOCHS\", 2000)\n",
    "MLFLOW_EXPERIMENT_NAME = os.getenv('DKUBE_PROJECT_NAME', 'insurance')\n",
    "DKUBE_INPUT_CODE = \"insurance\"\n",
    "DKUBE_INPUT_DATASET = \"insurance\"\n",
    "DKUBE_OUTPUT_MODEL = \"insurance\"\n",
    "MLFLOW_EXPERIMENT_NAME"
   ]
  },
  {
   "cell_type": "markdown",
   "metadata": {},
   "source": [
    "#### MLFLOW TRACKING INITIALIZATION"
   ]
  },
  {
   "cell_type": "code",
   "execution_count": 8,
   "metadata": {},
   "outputs": [],
   "source": [
    "import warnings\n",
    "warnings.filterwarnings('ignore')\n",
    "exp = mlflow.get_experiment_by_name(MLFLOW_EXPERIMENT_NAME)\n",
    "if not exp:\n",
    "    print(\"Creating experiment...\")\n",
    "    mlflow.create_experiment(MLFLOW_EXPERIMENT_NAME)\n",
    "mlflow.set_experiment(experiment_name=MLFLOW_EXPERIMENT_NAME)\n",
    "mlflow.tensorflow.autolog(silent=True)"
   ]
  },
  {
   "cell_type": "code",
   "execution_count": 9,
   "metadata": {},
   "outputs": [
    {
     "name": "stdout",
     "output_type": "stream",
     "text": [
      "Completed Label encoding on sex\n",
      "Completed Label encoding on smoker\n",
      "Completed Label encoding on region\n"
     ]
    }
   ],
   "source": [
    "\n",
    "data = pd.read_csv(INPUT_DATA_DIR+'/insurance.csv')\n",
    "insurance_input = data.drop(['charges','timestamp','unique_id'],axis=1)\n",
    "insurance_target = data['charges']\n",
    "    \n",
    "for col in ['sex', 'smoker', 'region']:\n",
    "    if (insurance_input[col].dtype == 'object'):\n",
    "        le = skpreprocessing.LabelEncoder()\n",
    "        le = le.fit(insurance_input[col])\n",
    "        insurance_input[col] = le.transform(insurance_input[col])\n",
    "        print('Completed Label encoding on',col)\n",
    "    \n",
    "#standardize data\n",
    "x_scaled = StandardScaler().fit_transform(insurance_input)\n",
    "x_train, x_test, y_train, y_test = train_test_split(x_scaled,\n",
    "                                                    insurance_target,\n",
    "                                                    test_size = 0.25,\n",
    "                                                    random_state=1211)\n",
    "#fit sgd model to the train set data\n",
    "sgd = SGDRegressor(loss='squared_epsilon_insensitive', max_iter=NUM_EPOCHS, n_iter_no_change=10, early_stopping=True)\n"
   ]
  },
  {
   "cell_type": "markdown",
   "metadata": {},
   "source": [
    "#### ML TRAINING"
   ]
  },
  {
   "cell_type": "code",
   "execution_count": 10,
   "metadata": {},
   "outputs": [],
   "source": [
    "runid = dkubemlf.create_run(code=DKUBE_INPUT_CODE, dataset=DKUBE_INPUT_DATASET,output=DKUBE_OUTPUT_MODEL)"
   ]
  },
  {
   "cell_type": "code",
   "execution_count": 11,
   "metadata": {},
   "outputs": [
    {
     "name": "stdout",
     "output_type": "stream",
     "text": [
      "Mean Absolute Error: 6824.39968862018\n",
      "Mean Squared Error: 92295838.88129269\n",
      "Root Mean Squared Error: 9607.07233663267\n",
      "Training Complete !\n"
     ]
    }
   ],
   "source": [
    "with mlflow.start_run(run_id=runid) as run:\n",
    "    \n",
    "    sgd_model = sgd.fit(x_train, y_train)\n",
    "    \n",
    "    y_pred_train = sgd_model.predict(x_train)    # Predict on train data.\n",
    "    y_pred_train[y_pred_train < 0] = y_pred_train.mean()\n",
    "    y_pred = sgd_model.predict(x_test)   # Predict on test data.\n",
    "    y_pred[y_pred < 0] = y_pred.mean()\n",
    "    \n",
    "    #######--- Calculating metrics ---############\n",
    "    mae = metrics.mean_absolute_error(y_test, y_pred)\n",
    "    mse = metrics.mean_squared_error(y_test, y_pred)\n",
    "    rmse = np.sqrt(metrics.mean_squared_error(y_test, y_pred))\n",
    "    \n",
    "    print('Mean Absolute Error:', mae)  \n",
    "    print('Mean Squared Error:', mse)  \n",
    "    print('Root Mean Squared Error:', rmse)\n",
    "\n",
    "    ########--- Logging metrics into Dkube via mlflow ---############\n",
    "    mlflow.log_metric(\"MAE\", mae)\n",
    "    mlflow.log_metric(\"MSE\", mse)\n",
    "\n",
    "    # Exporting model\n",
    "    filename = os.path.join(OUTPUT_MODEL_DIR, \"model.joblib\")\n",
    "    joblib.dump(sgd_model, filename)\n",
    "    \n",
    "    mlflow.log_artifacts(OUTPUT_MODEL_DIR, artifact_path=\"saved_model\")\n",
    "    \n",
    "print(\"Training Complete !\")"
   ]
  },
  {
   "cell_type": "code",
   "execution_count": null,
   "metadata": {},
   "outputs": [],
   "source": []
  }
 ],
 "metadata": {
  "kernelspec": {
   "display_name": "Python 3",
   "language": "python",
   "name": "python3"
  },
  "language_info": {
   "codemirror_mode": {
    "name": "ipython",
    "version": 3
   },
   "file_extension": ".py",
   "mimetype": "text/x-python",
   "name": "python",
   "nbconvert_exporter": "python",
   "pygments_lexer": "ipython3",
   "version": "3.8.10"
  }
 },
 "nbformat": 4,
 "nbformat_minor": 4
}
