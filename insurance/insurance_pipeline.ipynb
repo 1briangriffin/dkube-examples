{
 "cells": [
  {
   "cell_type": "code",
   "execution_count": null,
   "id": "22de5263",
   "metadata": {},
   "outputs": [],
   "source": [
    "import os\n",
    "job_class = os.getenv(\"DKUBE_JOB_CLASS\")\n",
    "if not job_class:\n",
    "    !{sys.executable} -m pip install kfp >/dev/null"
   ]
  },
  {
   "cell_type": "code",
   "execution_count": null,
   "id": "162f6994",
   "metadata": {},
   "outputs": [],
   "source": [
    "import json\n",
    "import kfp\n",
    "import kfp.dsl as dsl\n",
    "import kfp.compiler as compiler\n",
    "from kfp import components\n",
    "from kubernetes import client as k8s_client"
   ]
  },
  {
   "cell_type": "code",
   "execution_count": null,
   "id": "edd58ba7",
   "metadata": {},
   "outputs": [],
   "source": [
    "dkube_training_op = components.load_component_from_file(\"/mnt/dkube/pipeline/components/training/component.yaml\")\n",
    "dkube_serving_op  = components.load_component_from_file(\"/mnt/dkube/pipeline/components/serving/component.yaml\")"
   ]
  },
  {
   "cell_type": "code",
   "execution_count": null,
   "id": "e7d9074d",
   "metadata": {},
   "outputs": [],
   "source": [
    "image = \"ocdr/dkube-datascience-tf-cpu:v2.0.0-16\"\n",
    "serving_image = \"ocdr/tensorflowserver:2.0.0\"\n",
    "# training_program = 'HOMEDIR/workspace/training'\n",
    "training_program = \"training\"\n",
    "model = 'insurance'\n",
    "training_script = \"python insurance/training.py\"\n",
    "transformer_code='insurance/transformer.py'\n",
    "user = os.getenv('USERNAME')\n",
    "framework = \"tensorflow\"\n",
    "f_version = \"2.0.0\"\n",
    "output_mount_point = \"/opt/dkube/out\"\n",
    "\n",
    "## Project ID, make sure IDE is created under the same project where the expriment is suppose to run\n",
    "## Or else provide it manually in the project_id variable.\n",
    "project_id = os.environ.get(\"DKUBE_PROJECT_ID\")\n",
    "deployment_name  = os.getenv(\"DKUBE_PROJECT_NAME\", \"insurance\") + \"-deployment\""
   ]
  },
  {
   "cell_type": "code",
   "execution_count": null,
   "id": "3eba2423",
   "metadata": {},
   "outputs": [],
   "source": [
    "@kfp.dsl.pipeline(\n",
    "    name='dkube-insurance-pl',\n",
    "    description='sample insurance pipeline'\n",
    ")\n",
    "def insurance_pipeline(token):\n",
    "    \n",
    "    train       = dkube_training_op(token, json.dumps({\"image\": image}),\n",
    "                                    tags=json.dumps([f\"project:{project_id}\"]),\n",
    "                                    framework=framework, version=f_version,\n",
    "                                    program=training_program, run_script=training_script,\n",
    "                                    outputs=json.dumps([model]),\n",
    "                                    output_mounts=json.dumps([output_mount_point]))\n",
    "    \n",
    "    serving     = dkube_serving_op(token, train.outputs['artifact'], device='cpu', \n",
    "                                    name=deployment_name,\n",
    "                                    serving_image=json.dumps({\"image\": serving_image}),\n",
    "                                    transformer_image=json.dumps({\"image\": image}),\n",
    "                                    transformer_project=training_program,\n",
    "                                    transformer_code=transformer_code,\n",
    "                                    production=\"true\").after(train)"
   ]
  },
  {
   "cell_type": "markdown",
   "id": "e7725a57",
   "metadata": {},
   "source": [
    "## Create a run"
   ]
  },
  {
   "cell_type": "code",
   "execution_count": null,
   "id": "dbb4285d",
   "metadata": {},
   "outputs": [],
   "source": [
    "existing_token = os.getenv(\"DKUBE_USER_ACCESS_TOKEN\")\n",
    "client = kfp.Client(existing_token=existing_token)\n",
    "client.create_run_from_pipeline_func(insurance_pipeline, arguments={\"token\":existing_token}, experiment_name=\"default\")"
   ]
  }
 ],
 "metadata": {
  "kernelspec": {
   "display_name": "Python 3.10.7 64-bit",
   "language": "python",
   "name": "python3"
  },
  "language_info": {
   "codemirror_mode": {
    "name": "ipython",
    "version": 3
   },
   "file_extension": ".py",
   "mimetype": "text/x-python",
   "name": "python",
   "nbconvert_exporter": "python",
   "pygments_lexer": "ipython3",
   "version": "3.10.7"
  },
  "vscode": {
   "interpreter": {
    "hash": "aee8b7b246df8f9039afb4144a1f6fd8d2ca17a180786b69acc140d282b71a49"
   }
  }
 },
 "nbformat": 4,
 "nbformat_minor": 5
}
