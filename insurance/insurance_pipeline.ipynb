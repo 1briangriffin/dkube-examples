{
 "cells": [
  {
   "cell_type": "code",
<<<<<<< HEAD
   "execution_count": 77,
   "id": "082782e1",
=======
   "execution_count": null,
   "id": "435793d3",
>>>>>>> 58c7640c1340e8e1434f490f60fc7f0c75f21251
   "metadata": {},
   "outputs": [],
   "source": [
    "import os\n",
    "job_class = os.getenv(\"DKUBE_JOB_CLASS\")\n",
    "if not job_class:\n",
    "    !{sys.executable} -m pip install kfp >/dev/null"
   ]
  },
  {
   "cell_type": "code",
<<<<<<< HEAD
   "execution_count": 78,
   "id": "7bbd3f20",
=======
   "execution_count": null,
   "id": "f3806f90",
>>>>>>> 58c7640c1340e8e1434f490f60fc7f0c75f21251
   "metadata": {},
   "outputs": [],
   "source": [
    "import json\n",
    "\n",
    "import kfp\n",
    "from kfp import components\n",
    "from dkube.sdk.api import DkubeApi\n",
    "import random, string\n",
    "from termcolor import colored\n",
    "import pprint"
   ]
  },
  {
   "cell_type": "code",
<<<<<<< HEAD
   "execution_count": 79,
   "id": "4f5b2068",
=======
   "execution_count": null,
   "id": "1d906221",
>>>>>>> 58c7640c1340e8e1434f490f60fc7f0c75f21251
   "metadata": {},
   "outputs": [],
   "source": [
    "dkube_training_op = components.load_component_from_file(\"/mnt/dkube/pipeline/components/training/component.yaml\")\n",
    "dkube_serving_op  = components.load_component_from_file(\"/mnt/dkube/pipeline/components/serving/component.yaml\")\n",
    "dkube_preprocess_op  = components.load_component_from_file(\"/mnt/dkube/pipeline/components/preprocess/component.yaml\")"
   ]
  },
  {
   "cell_type": "code",
<<<<<<< HEAD
   "execution_count": 80,
   "id": "f7fc841a",
=======
   "execution_count": null,
   "id": "4db24ae3",
>>>>>>> 58c7640c1340e8e1434f490f60fc7f0c75f21251
   "metadata": {},
   "outputs": [],
   "source": [
    "## These fields must be modified to allow the file to run based on your repo names\n",
    "## After the files are modified, run all of the cells to execute\n",
    "\n",
    "dkube_token = os.getenv(\"DKUBE_USER_ACCESS_TOKEN\")\n",
    "dapi = DkubeApi(token=token)\n",
    "version_list = dapi.get_dataset_versions(\"larryc1200\", \"ins-lc-pre\")\n",
    "v1 = version_list[0]['version']['uuid']\n",
    "#pprint.pprint(v1)\n",
    "\n",
    "training_program = \"ins-larryc1200-pre\" # Change this to identify your Code Repo name\n",
    "model = \"ins-lc\" # Change this to identify your Model Repo name\n",
    "input_datasets = [\"ins-lc-pre\"]\n",
    "output_datasets = [\"ins-lc-pre\"]\n",
    "input_dataset_mounts = [\"/input/dataset\"]\n",
    "input_dataset_versions = [v1]\n",
    "output_dataset_mounts = [\"/output/dataset\"]"
   ]
  },
  {
   "cell_type": "code",
<<<<<<< HEAD
   "execution_count": 81,
   "id": "516eb0df",
=======
   "execution_count": null,
   "id": "04113b5d",
>>>>>>> 58c7640c1340e8e1434f490f60fc7f0c75f21251
   "metadata": {},
   "outputs": [],
   "source": [
    "## These fields are specific to this example, and should not be modified\n",
    "\n",
    "image = \"ocdr/dkube-datascience-tf-cpu:v2.0.0-17\"\n",
    "serving_image = \"ocdr/tensorflowserver:2.0.0\"\n",
    "training_script = \"python insurance/training.py\"\n",
    "preprocess_script = \"python insurance/preprocess.py\"\n",
    "transformer_code='insurance/transformer.py'\n",
    "user = os.getenv('USERNAME')\n",
    "framework = \"tensorflow\"\n",
    "f_version = \"2.0.0\"\n",
    "output_mount_point = \"/opt/dkube/out\"\n",
    "\n",
    "## Project ID, make sure IDE is created under the same project where the expriment is suppose to run\n",
    "## Or else provide it manually in the project_id variable.\n",
    "project_id = os.environ.get(\"DKUBE_PROJECT_ID\")\n",
    "\n",
    "run_id = 0\n"
   ]
  },
  {
   "cell_type": "code",
<<<<<<< HEAD
   "execution_count": 82,
   "id": "7c2f6d88",
=======
   "execution_count": null,
   "id": "4e3c32b1",
>>>>>>> 58c7640c1340e8e1434f490f60fc7f0c75f21251
   "metadata": {},
   "outputs": [],
   "source": [
    "@kfp.dsl.pipeline(\n",
    "    name='dkube-insurance-pl',\n",
    "    description='sample insurance pipeline'\n",
    ")\n",
    "def insurance_pipeline(token, tags, deployment_name):\n",
    "    \n",
    "    preprocess   = dkube_preprocess_op(token, json.dumps({\"image\": image}),\n",
    "                                    tags=tags,\n",
    "                                    program=training_program, run_script=preprocess_script,\n",
    "                                    datasets=input_datasets, input_dataset_mounts=input_dataset_mounts,\n",
    "                                    input_dataset_versions=input_dataset_versions,\n",
    "                                    outputs=output_datasets,\n",
    "                                    output_mounts=output_dataset_mounts)\n",
    "    \n",
    "    train       = dkube_training_op(token, json.dumps({\"image\": image}),\n",
    "                                    tags=tags,\n",
    "                                    framework=framework, version=f_version,\n",
    "                                    program=training_program, run_script=training_script,\n",
    "                                    datasets=input_datasets, input_dataset_mounts=input_dataset_mounts,\n",
    "                                    outputs=json.dumps([model]),\n",
    "                                    output_mounts=json.dumps([output_mount_point])).after(preprocess)\n",
    "        \n",
    "    serving     = dkube_serving_op(token, train.outputs['artifact'], device='cpu', \n",
    "                                    name=deployment_name,\n",
    "                                    serving_image=json.dumps({\"image\": serving_image}),\n",
    "                                    transformer_image=json.dumps({\"image\": image}),\n",
    "                                    transformer_project=training_program,\n",
    "                                    transformer_code=transformer_code,\n",
    "                                    production=\"true\").after(train)"
   ]
  },
  {
   "cell_type": "markdown",
<<<<<<< HEAD
   "id": "6fce721e",
=======
   "id": "cc4053a8",
>>>>>>> 58c7640c1340e8e1434f490f60fc7f0c75f21251
   "metadata": {},
   "source": [
    "## Create a run"
   ]
  },
  {
   "cell_type": "code",
<<<<<<< HEAD
   "execution_count": 83,
   "id": "96e635a9",
=======
   "execution_count": null,
   "id": "88660353",
>>>>>>> 58c7640c1340e8e1434f490f60fc7f0c75f21251
   "metadata": {},
   "outputs": [],
   "source": [
    "token = os.getenv(\"DKUBE_USER_ACCESS_TOKEN\")\n",
    "api = DkubeApi(token=token)"
   ]
  },
  {
   "cell_type": "code",
<<<<<<< HEAD
   "execution_count": 84,
   "id": "ef80b43c",
=======
   "execution_count": null,
   "id": "02669f72",
>>>>>>> 58c7640c1340e8e1434f490f60fc7f0c75f21251
   "metadata": {},
   "outputs": [],
   "source": [
    "res = ''.join(random.choices(string.ascii_lowercase + string.digits, k=4))\n",
    "\n",
    "if project_id:\n",
    "    tags = json.dumps([f\"project:{project_id}\"])\n",
    "    project_name = os.environ.get(\"DKUBE_PROJECT_NAME\")\n",
    "    run_name = f\"[{project_name}] Insurance Run{run_id}\"\n",
    "    experiment = f\"[{project_name}] experiment\"\n",
    "    deployment_name = f\"{os.getenv('DKUBE_PROJECT_NAME', 'insurance')}-{os.getenv('DKUBE_USER_LOGIN_NAME')}-%s\"%res\n",
    "else:\n",
    "    tags = []\n",
    "    run_name = f\"Insurance Run {run_id}\"\n",
    "    experiment = \"default\"\n",
    "    deployment_name = f\"{os.getenv('DKUBE_USER_LOGIN_NAME')}-%s\"%res"
   ]
  },
  {
   "cell_type": "code",
<<<<<<< HEAD
   "execution_count": 85,
   "id": "f65ad92f",
=======
   "execution_count": null,
   "id": "a6d8779a",
>>>>>>> 58c7640c1340e8e1434f490f60fc7f0c75f21251
   "metadata": {},
   "outputs": [
    {
     "name": "stdout",
     "output_type": "stream",
     "text": [
      "On pipeline completion the deployment \u001b[1m\u001b[32mlarryc1200-lrw5\u001b[0m will be created\n"
     ]
    },
    {
     "data": {
      "text/html": [
       "<a href=\"/pipeline/#/experiments/details/a610e45a-9328-48de-92e2-4810c4c293f6\" target=\"_blank\" >Experiment details</a>."
      ],
      "text/plain": [
       "<IPython.core.display.HTML object>"
      ]
     },
     "metadata": {},
     "output_type": "display_data"
    },
    {
     "data": {
      "text/html": [
       "<a href=\"/pipeline/#/runs/details/d1656e58-2f06-49e8-a159-4b7603551edf\" target=\"_blank\" >Run details</a>."
      ],
      "text/plain": [
       "<IPython.core.display.HTML object>"
      ]
     },
     "metadata": {},
     "output_type": "display_data"
    },
    {
     "name": "stdout",
     "output_type": "stream",
     "text": [
      "Stored 'pl_config' (dict)\n"
     ]
    }
   ],
   "source": [
    "deployment_id = api.get_deployment_id(name=deployment_name)\n",
    "if not deployment_id:\n",
    "    print(f\"On pipeline completion the deployment {colored(deployment_name, 'green', attrs=['bold'])} will be created\")\n",
    "    \n",
    "    client = kfp.Client(existing_token=token)\n",
    "    client.create_run_from_pipeline_func(insurance_pipeline, run_name=run_name, experiment_name=experiment,\n",
    "                                         arguments={\"token\":token, \"tags\":tags,\n",
    "                                                    'deployment_name':deployment_name}\n",
    "                                        )\n",
    "    run_id += 1\n",
    "    pl_config = {\"DEPLOYMENT_NAME\":deployment_name}\n",
    "    %store pl_config\n",
    "# vv\n",
    "else:\n",
    "    print(\"Deployment Already Existing, skipping create, try running the cells again\")"
   ]
  },
  {
   "cell_type": "code",
   "execution_count": null,
<<<<<<< HEAD
   "id": "b5d3e90e",
=======
   "id": "ca5bab80",
>>>>>>> 58c7640c1340e8e1434f490f60fc7f0c75f21251
   "metadata": {},
   "outputs": [],
   "source": []
  }
 ],
 "metadata": {
  "kernelspec": {
   "display_name": "Python 3",
   "language": "python",
   "name": "python3"
  },
  "language_info": {
   "codemirror_mode": {
    "name": "ipython",
    "version": 3
   },
   "file_extension": ".py",
   "mimetype": "text/x-python",
   "name": "python",
   "nbconvert_exporter": "python",
   "pygments_lexer": "ipython3",
   "version": "3.7.5"
  },
  "vscode": {
   "interpreter": {
    "hash": "aee8b7b246df8f9039afb4144a1f6fd8d2ca17a180786b69acc140d282b71a49"
   }
  }
 },
 "nbformat": 4,
 "nbformat_minor": 5
}
