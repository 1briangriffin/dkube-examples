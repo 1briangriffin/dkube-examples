{
 "cells": [
  {
   "cell_type": "code",
   "execution_count": null,
   "metadata": {},
   "outputs": [],
   "source": [
    "import os\n",
    "import pandas as pd\n",
    "\n",
    "from dkube.sdk import *\n",
    "\n",
    "import warnings\n",
    "warnings.filterwarnings(\"ignore\")\n",
    "import requests, argparse\n",
    "requests.packages.urllib3.disable_warnings()"
   ]
  },
  {
   "cell_type": "markdown",
   "metadata": {},
   "source": [
    "### Set up the variables for Dataset Access"
   ]
  },
  {
   "cell_type": "code",
   "execution_count": null,
   "metadata": {},
   "outputs": [],
   "source": [
    "MLFLOW_EXPERIMENT_NAME = os.getenv('DKUBE_PROJECT_NAME')\n",
    "\n",
    "## Get the username & token and create the DKube SDK API variables\n",
    "\n",
    "SERVING_DKUBE_URL = os.environ.get(\"DKUBE_URL\")\n",
    "SERVING_DKUBE_TOKEN = os.environ.get(\"DKUBE_USER_ACCESS_TOKEN\")\n",
    "SERVING_DKUBE_USERNAME = os.environ.get(\"DKUBE_USER_LOGIN_NAME\")\n",
    "SERVING_DKUBE_PROJECT_ID = os.environ.get(\"DKUBE_PROJECT_ID\")\n",
    "\n",
    "SERVING_DKUBE_INPUT_DATASET_NAME = \"insurance-input-dataset\"\n",
    "SERVING_DKUBE_OUTPUT_DATASET_NAME = \"insurance-output-dataset\"\n",
    "\n",
    "dapi = DkubeApi(URL=SERVING_DKUBE_URL,token=SERVING_DKUBE_TOKEN)\n",
    "dataset_input_info = DkubeDataset(SERVING_DKUBE_USERNAME, name=SERVING_DKUBE_INPUT_DATASET_NAME)\n",
    "dataset_output_info = DkubeDataset(SERVING_DKUBE_USERNAME, name=SERVING_DKUBE_OUTPUT_DATASET_NAME)"
   ]
  },
  {
   "cell_type": "markdown",
   "metadata": {},
   "source": [
    "### Preprocess Data"
   ]
  },
  {
   "cell_type": "code",
   "execution_count": null,
   "metadata": {},
   "outputs": [],
   "source": [
    "## Get the original data from the input dataset repo mount point & write to output dataset\n",
    "data = pd.read_csv('/input/dataset/insurance.csv')\n",
    "# dapi.create_dataset(dataset_output_info)\n",
    " xx\n",
    "## Remove the AGE column & write out the new output dataset\n",
    "insurance_filtered = data.drop('age', axis=1)\n",
    "insurance_filtered.to_csv('/output/dataset/insurance.csv')"
   ]
  }
 ],
 "metadata": {
  "kernelspec": {
   "display_name": "Python 3",
   "language": "python",
   "name": "python3"
  },
  "language_info": {
   "codemirror_mode": {
    "name": "ipython",
    "version": 3
   },
   "file_extension": ".py",
   "mimetype": "text/x-python",
   "name": "python",
   "nbconvert_exporter": "python",
   "pygments_lexer": "ipython3",
   "version": "3.7.5"
  },
  "vscode": {
   "interpreter": {
    "hash": "aee8b7b246df8f9039afb4144a1f6fd8d2ca17a180786b69acc140d282b71a49"
   }
  }
 },
 "nbformat": 4,
 "nbformat_minor": 4
}
