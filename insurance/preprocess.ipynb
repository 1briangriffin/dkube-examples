{
 "cells": [
  {
   "cell_type": "code",
   "execution_count": null,
   "metadata": {},
   "outputs": [],
   "source": [
    "import os\n",
    "import pandas as pd\n",
    "\n",
    "from dkube.sdk import *\n",
    "from dkube.sdk.api import DkubeApi\n",
    "\n",
    "import warnings\n",
    "warnings.filterwarnings(\"ignore\")\n",
    "import requests, argparse\n",
    "requests.packages.urllib3.disable_warnings()"
   ]
  },
  {
   "attachments": {},
   "cell_type": "markdown",
   "metadata": {},
   "source": [
    "### Set up the variables for Dataset Access"
   ]
  },
  {
   "cell_type": "code",
   "execution_count": null,
   "metadata": {},
   "outputs": [],
   "source": [
    "MLFLOW_EXPERIMENT_NAME = os.getenv('DKUBE_PROJECT_NAME')\n",
    "\n",
    "## Get the username & token and create the DKube SDK API ariable\n",
    "\n",
    "SERVING_DKUBE_URL = cld_config['SERVING_DKUBE_URL']\n",
    "SERVING_DKUBE_TOKEN = cld_config['SERVING_DKUBE_TOKEN']\n",
    "\n",
    "dapi = DkubeApi(URL=SERVING_DKUBE_URL,token=SERVING_DKUBE_TOKEN)\n",
    "\n",
    "#DATASET_URL could be specified as Environment parameters at the time of creating JL or Run\n",
    "\n",
    "# Define data\n",
    "INPUT_DATA_URL = os.getenv(\"DATASET_URL\", \"https://dkube-examples-data.s3.us-west-2.amazonaws.com/monitoring-insurance/training-data/insurance.csv\")"
   ]
  },
  {
   "attachments": {},
   "cell_type": "markdown",
   "metadata": {},
   "source": [
    "### Preprocess Data"
   ]
  },
  {
   "cell_type": "code",
   "execution_count": null,
   "metadata": {},
   "outputs": [],
   "source": [
    "## Get the original data\n",
    "data = pd.read_csv(INPUT_DATA_URL)\n",
    "\n",
    "## Choose which columns to keep\n",
    "insurance_filtered = data['sex', 'smoker', 'region', 'charges', 'timestamp','unique_id']\n",
    "\n",
    "## Set up the API parameters for creating an updated dataset\n",
    "DATASET_REPO_NAME = \"ins-lc-dataset\"\n",
    "DATASET_MOUNT_PATH = \"/dataset/\"\n",
    "\n",
    "## Create the new dataset with the filtered data\n",
    "dapi.add_output_dataset(name=DATASET_REPO_NAME, mountpath=DATASET_MOUNT_PATH)"
   ]
  }
 ],
 "metadata": {
  "kernelspec": {
   "display_name": "Python 3.10.7 64-bit",
   "language": "python",
   "name": "python3"
  },
  "language_info": {
   "codemirror_mode": {
    "name": "ipython",
    "version": 3
   },
   "file_extension": ".py",
   "mimetype": "text/x-python",
   "name": "python",
   "nbconvert_exporter": "python",
   "pygments_lexer": "ipython3",
   "version": "3.10.7 (main, Sep 15 2022, 01:51:29) [Clang 14.0.0 (clang-1400.0.29.102)]"
  },
  "vscode": {
   "interpreter": {
    "hash": "aee8b7b246df8f9039afb4144a1f6fd8d2ca17a180786b69acc140d282b71a49"
   }
  }
 },
 "nbformat": 4,
 "nbformat_minor": 4
}
