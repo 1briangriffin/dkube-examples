{
 "cells": [
  {
   "cell_type": "markdown",
   "metadata": {},
   "source": [
    "#### Defined by User"
   ]
  },
  {
   "cell_type": "code",
   "execution_count": null,
   "metadata": {},
   "outputs": [],
   "source": [
    "%store -r\n",
    "import os\n",
    "from urllib.parse import urlparse\n",
    "\n",
    "## Project ID, make sure IDE is created under project\n",
    "## Or else provide it manually in the project_id variable.\n",
    "project_id = os.environ.get(\"DKUBE_PROJECT_ID\")\n",
    "\n",
    "## set this to false if you are running the notebook other than\n",
    "## the setup where deployment is running or monitoring on other cluster\n",
    "RUNNING_IN_SAME = True\n",
    "\n",
    "######## Dkube information of serving cluster ########\n",
    "\n",
    "## if RUNNING_IN_SAME is False then provide\n",
    "## Serving Dkube URL with expernal IP, eg: https://{IP}:32222/\n",
    "## in else part\n",
    "# if your SERVING_DKUBE_URL dosn't have IP the provide the value for SERVING_DKUBE_IP mannually.\n",
    "if RUNNING_IN_SAME:\n",
    "    MINIO_ENDPOINT = os.getenv(\"MLFLOW_S3_ENDPOINT_URL\")\n",
    "    SERVING_DKUBE_URL = os.getenv(\"DKUBE_URL\")\n",
    "else:\n",
    "    SERVING_DKUBE_URL = \"\"\n",
    "    parsed_url = urlparse(SERVING_DKUBE_URL)\n",
    "    SERVING_DKUBE_IP = parsed_url.hostname\n",
    "    MINIO_ENDPOINT = f\"http://{SERVING_DKUBE_IP}:32221\"\n",
    "\n",
    "\n",
    "if (not SERVING_DKUBE_URL) or (not MINIO_ENDPOINT):\n",
    "    raise ValueError(\"Either SERVING_DKUBE_URL or MINIO_ENDPOINT is empty\")\n",
    "\n",
    "SERVING_DKUBE_USERNAME = os.getenv(\"DKUBE_USER_LOGIN_NAME\",\"\")\n",
    "\n",
    "SERVING_DKUBE_TOKEN = os.getenv(\"DKUBE_USER_ACCESS_TOKEN\",\"\") \n",
    "\n",
    "######## Dkube information of monitoring cluster ########\n",
    "\n",
    "## The following values are not required if \n",
    "## monitoring and serving is running in same Dkube Cluster\n",
    "MONITORING_DKUBE_URL = \"\"\n",
    "\n",
    "MONITORING_DKUBE_USERNAME = \"\"\n",
    "\n",
    "MONITORING_DKUBE_TOKEN = \"\"\n",
    "\n",
    "## name of serving cluster\n",
    "SERVING_DKUBE_CLUSTER_NAME = \"\"\n",
    "\n",
    "## Define the model monitor name here that you will be creating \n",
    "## it should be same as the deployment name which is running on DKube\n",
    "## by default it will get picked from the pipeline run\n",
    "## if not present provide manually. \n",
    "if \"pl_config\" in dir():\n",
    "    MONITOR_NAME = pl_config.get(\"DEPLOYMENT_NAME\")\n",
    "else:\n",
    "    MONITOR_NAME = \"\"\n",
    "\n",
    "# Required in train.ipynb to retrain the model\n",
    "LIVE_DATASET =  MONITOR_NAME+'-s3'\n",
    "\n",
    "## Inference URL\n",
    "INFERENCE_URL = None\n",
    "\n",
    "# dataset to be used as training data\n",
    "DKUBE_BASE_DATASET = \"insurance-data\"\n",
    "\n",
    "# Model name to be created or used for example, it will create the model\n",
    "# if not existing otherwise it will ignore creation.\n",
    "MODEL_NAME = MONITOR_NAME\n",
    "\n",
    "# the frequency with which monitoring will run, value will be considered in minutes\n",
    "RUN_FREQUENCY = 5\n",
    "\n",
    "if project_id:\n",
    "    tags = [f\"project:{project_id}\"]\n",
    "else:\n",
    "    tags = []\n",
    "\n",
    "if not MODEL_NAME:\n",
    "    raise Exception(\"Model name is empty\")\n",
    "\n",
    "if not(SERVING_DKUBE_TOKEN and SERVING_DKUBE_USERNAME and SERVING_DKUBE_URL):\n",
    "    raise Exception(\"Please fill the Serving Dkube details first (SERVING_DKUBE_TOKEN, SERVING_DKUBE_URL, SERVING_DKUBE_USERNAME)\")\n",
    "    \n",
    "if (MONITORING_DKUBE_URL\n",
    "   and\n",
    "   not(MONITORING_DKUBE_USERNAME and MONITORING_DKUBE_TOKEN and SERVING_DKUBE_CLUSTER_NAME)):\n",
    "    raise Exception(\"Please fill the Monitoring Dkube details first (MONITORING_DKUBE_USERNAME, MONITORING_DKUBE_TOKEN, MONITORING_DKUBE_URL, SERVING_DKUBE_CLUSTER_NAME)\")"
   ]
  },
  {
   "cell_type": "markdown",
   "metadata": {},
   "source": [
    "#### Dkube Resources"
   ]
  },
  {
   "cell_type": "code",
   "execution_count": null,
   "metadata": {},
   "outputs": [],
   "source": [
    "import time,json\n",
    "from dkube.sdk import *"
   ]
  },
  {
   "cell_type": "code",
   "execution_count": null,
   "metadata": {},
   "outputs": [],
   "source": [
    "serving_api = DkubeApi(URL=SERVING_DKUBE_URL,token=SERVING_DKUBE_TOKEN)\n",
    "if SERVING_DKUBE_USERNAME == serving_api.validate_token()['username']:\n",
    "    pass\n",
    "else:\n",
    "    print(\"Invalid User, please check your username, first\")"
   ]
  },
  {
   "cell_type": "code",
   "execution_count": null,
   "metadata": {},
   "outputs": [],
   "source": [
    "if not MONITORING_DKUBE_URL:\n",
    "    data = serving_api.get_modelmonitor_id(MONITOR_NAME)\n",
    "    if data.data:\n",
    "        MONITOR_ID = data.data.get(MONITOR_NAME)\n",
    "        if MONITOR_ID:\n",
    "            raise ValueError(f\"{MONITOR_NAME} monitor already existing please use a different name\")"
   ]
  },
  {
   "cell_type": "code",
   "execution_count": null,
   "metadata": {},
   "outputs": [],
   "source": [
    "response =  serving_api.get_cloudevents_logstore_creds()\n",
    "MINIO_KEY = response[\"access_key_id\"]\n",
    "MINIO_SECRET_KEY = response[\"access_key\"]\n",
    "MINIO_BUCKET = response[\"bucket\"]"
   ]
  },
  {
   "cell_type": "code",
   "execution_count": null,
   "metadata": {},
   "outputs": [],
   "source": [
    "INPUT_TRAIN_TYPE = \"training\"\n",
    "cld_config = {\"MONITOR_NAME\":MONITOR_NAME,\n",
    "              \"INPUT_TRAIN_TYPE\":INPUT_TRAIN_TYPE, \"SERVING_DKUBE_USERNAME\":SERVING_DKUBE_USERNAME,\n",
    "              \"SERVING_DKUBE_URL\":SERVING_DKUBE_URL, \"SERVING_DKUBE_TOKEN\":SERVING_DKUBE_TOKEN, \n",
    "              \"MINIO_KEY\":MINIO_KEY,\"MINIO_SECRET_KEY\":MINIO_SECRET_KEY, \"MINIO_ENDPOINT\":MINIO_ENDPOINT,\n",
    "              \"MINIO_BUCKET\": MINIO_BUCKET,\n",
    "              \"DKUBE_BASE_DATASET\":DKUBE_BASE_DATASET, \"MODEL_NAME\":MODEL_NAME,\n",
    "              \"RUN_FREQUENCY\":RUN_FREQUENCY,\n",
    "              \"LIVE_DATASET\":LIVE_DATASET,\n",
    "              \"MONITORING_DKUBE_USERNAME\":MONITORING_DKUBE_USERNAME, \"MONITORING_DKUBE_TOKEN\":MONITORING_DKUBE_TOKEN,\n",
    "              \"MONITORING_DKUBE_URL\":MONITORING_DKUBE_URL,\n",
    "              \"SERVING_DKUBE_CLUSTER_NAME\":SERVING_DKUBE_CLUSTER_NAME}"
   ]
  },
  {
   "cell_type": "markdown",
   "metadata": {},
   "source": [
    "#### Dataset"
   ]
  },
  {
   "cell_type": "code",
   "execution_count": null,
   "metadata": {},
   "outputs": [],
   "source": [
    "try:\n",
    "    dataset = DkubeDataset(SERVING_DKUBE_USERNAME, name=DKUBE_BASE_DATASET, tags=tags)\n",
    "    dataset.update_git_details(url=\"https://dkube-examples-data.s3.us-west-2.amazonaws.com/monitoring-insurance/training-data/insurance.csv\")\n",
    "    dataset.update_dataset_source(source=\"pub_url\")\n",
    "    serving_api.create_dataset(dataset)\n",
    "except Exception as e:\n",
    "    if e.reason.lower()!=\"conflict\":\n",
    "        response = e.body\n",
    "        print(f\"Failed[{response.code}]: {response.message}\")"
   ]
  },
  {
   "cell_type": "markdown",
   "metadata": {},
   "source": [
    "## Checking for seperate monitoring cluster and adding datasets accordingly."
   ]
  },
  {
   "cell_type": "code",
   "execution_count": null,
   "metadata": {},
   "outputs": [],
   "source": [
    "if MONITORING_DKUBE_URL:\n",
    "    monitoring_api = DkubeApi(URL=MONITORING_DKUBE_URL,token=MONITORING_DKUBE_TOKEN)\n",
    "    data = monitoring_api.get_modelmonitor_id(MONITOR_NAME)\n",
    "    if data.data:\n",
    "        MONITOR_ID = data.data.get(MONITOR_NAME)\n",
    "        if MONITOR_ID:\n",
    "            raise ValueError(f\"{MONITOR_NAME} monitor already existing please use a different name\")\n",
    "    try:\n",
    "        dataset = DkubeDataset(MONITORING_DKUBE_USERNAME, name=DKUBE_BASE_DATASET)\n",
    "        dataset.update_git_details(url=\"https://dkube-examples-data.s3.us-west-2.amazonaws.com/monitoring-insurance/training-data/insurance.csv\")\n",
    "        dataset.update_dataset_source(source=\"pub_url\")\n",
    "        monitoring_api.create_dataset(dataset)\n",
    "    except Exception as e:\n",
    "        if e.reason.lower()!=\"conflict\":\n",
    "            response = e.body\n",
    "            print(f\"Failed[{response.code}]: {response.message}\")"
   ]
  },
  {
   "cell_type": "markdown",
   "metadata": {},
   "source": [
    "### Model Monitor Datasets"
   ]
  },
  {
   "cell_type": "markdown",
   "metadata": {},
   "source": [
    "##### Predict and labelled Dataset"
   ]
  },
  {
   "cell_type": "code",
   "execution_count": null,
   "metadata": {},
   "outputs": [],
   "source": [
    "if MONITORING_DKUBE_URL:\n",
    "    api = monitoring_api\n",
    "    user = MONITORING_DKUBE_USERNAME\n",
    "else:\n",
    "    api = serving_api\n",
    "    user = SERVING_DKUBE_USERNAME"
   ]
  },
  {
   "cell_type": "code",
   "execution_count": null,
   "metadata": {},
   "outputs": [],
   "source": [
    "try:\n",
    "    dataset = DkubeDataset(user, name=LIVE_DATASET,remote=True,tags=tags)\n",
    "    dataset.update_dataset_source('s3')\n",
    "    dataset.update_s3_details(\n",
    "        endpoint = MINIO_ENDPOINT,\n",
    "        bucket=MINIO_BUCKET,\n",
    "        prefix='',\n",
    "        key=MINIO_KEY,\n",
    "        secret=MINIO_SECRET_KEY)\n",
    "    api.create_dataset(dataset)\n",
    "\n",
    "except Exception as e:\n",
    "    if e.reason:\n",
    "        if e.reason.lower() != \"conflict\":\n",
    "            response = e.body\n",
    "            print(f\"Failed[{response.code}]: {response.message}\")\n",
    "    else:\n",
    "        raise e"
   ]
  },
  {
   "cell_type": "markdown",
   "metadata": {},
   "source": [
    "## Waiting for the deployment to come up and enabling logs"
   ]
  },
  {
   "cell_type": "code",
   "execution_count": null,
   "metadata": {},
   "outputs": [],
   "source": [
    "del api, serving_api\n",
    "\n",
    "# Delete monitoring_api variable if it was created earlier by checking for external monitoring url being set\n",
    "if MONITORING_DKUBE_URL: del monitoring_api\n",
    "\n",
    "serving_api = DkubeApi(URL=SERVING_DKUBE_URL,token=SERVING_DKUBE_TOKEN)\n",
    "def wait_for_deployment_running(deployment_id):\n",
    "    status = None\n",
    "    inference_url, inference = None, None\n",
    "    while True:\n",
    "        data = serving_api.get_deployment(deployment_id)\n",
    "        status = data.data.inferenceservice_deployment.parameters.generated.status.state\n",
    "        inference = data.data.inferenceservice_deployment.parameters.inference\n",
    "        inference_url = data.data.inferenceservice_deployment.parameters.generated.details.serving.servingurl\n",
    "        if status == \"RUNNING\":\n",
    "            break\n",
    "        print(\"waiting for deployment to be running\")\n",
    "        time.sleep(serving_api.wait_interval)\n",
    "    return inference, inference_url\n",
    "\n",
    "while True:\n",
    "    SERVING_DEPLOYMENT_ID = serving_api.get_deployment_id(name=MONITOR_NAME)\n",
    "    if SERVING_DEPLOYMENT_ID:\n",
    "        break\n",
    "    print(\"waiting for deployment to come up\")\n",
    "    time.sleep(serving_api.wait_interval)\n",
    "inference, INFERENCE_URL = wait_for_deployment_running(SERVING_DEPLOYMENT_ID)\n",
    "if not inference.enable_logs:\n",
    "    print(\"Enabling logs\")\n",
    "    serving = DkubeServing(user=SERVING_DKUBE_USERNAME, name=MONITOR_NAME)\n",
    "    serving.update_enable_logs(enable_logs=True)\n",
    "    serving_api.update_inference(serving)\n",
    "print(\"Inference is up at URL: \", INFERENCE_URL)\n",
    "cld_config['INFERENCE_URL'] = INFERENCE_URL\n",
    "cld_config['SERVING_DEPLOYMENT_ID'] = SERVING_DEPLOYMENT_ID\n",
    "%store cld_config"
   ]
  },
  {
   "cell_type": "markdown",
   "metadata": {},
   "source": [
    "#### Cleanup"
   ]
  },
  {
   "cell_type": "code",
   "execution_count": null,
   "metadata": {},
   "outputs": [],
   "source": [
    "## Set CLEANUP = True, after your experiment is complete.\n",
    "CLEANUP = False\n",
    "if CLEANUP:\n",
    "    serving_api.delete_dataset(SERVING_DKUBE_USERNAME,DKUBE_BASE_DATASET,force=True)\n",
    "    serving_api.delete_dataset(SERVING_DKUBE_USERNAME,LIVE_DATASET,force=True)\n",
    "    %store -d cld_config"
   ]
  },
  {
   "cell_type": "code",
   "execution_count": null,
   "metadata": {},
   "outputs": [],
   "source": []
  }
 ],
 "metadata": {
  "kernelspec": {
   "display_name": "Python 3.10.7 64-bit",
   "language": "python",
   "name": "python3"
  },
  "language_info": {
   "codemirror_mode": {
    "name": "ipython",
    "version": 3
   },
   "file_extension": ".py",
   "mimetype": "text/x-python",
   "name": "python",
   "nbconvert_exporter": "python",
   "pygments_lexer": "ipython3",
   "version": "3.10.7 (main, Sep 15 2022, 01:51:29) [Clang 14.0.0 (clang-1400.0.29.102)]"
  },
  "vscode": {
   "interpreter": {
    "hash": "aee8b7b246df8f9039afb4144a1f6fd8d2ca17a180786b69acc140d282b71a49"
   }
  }
 },
 "nbformat": 4,
 "nbformat_minor": 4
}
