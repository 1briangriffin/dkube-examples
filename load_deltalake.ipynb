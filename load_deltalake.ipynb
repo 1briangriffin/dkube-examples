{
 "cells": [
  {
   "cell_type": "code",
   "execution_count": 39,
   "metadata": {},
   "outputs": [],
   "source": [
    "import pandas as pd\n",
    "import os\n",
    "import shutil\n",
    "\n",
    "import warnings\n",
    "warnings.filterwarnings(\"ignore\")\n",
    "\n",
    "from deltalake import DeltaTable\n",
    "from deltalake.writer import write_deltalake"
   ]
  },
  {
   "cell_type": "code",
   "execution_count": 40,
   "metadata": {},
   "outputs": [],
   "source": [
    "DELTA_LAKE_TABLE = \"loans.delta\""
   ]
  },
  {
   "cell_type": "code",
   "execution_count": 41,
   "metadata": {},
   "outputs": [],
   "source": [
    "if os.path.exists(DELTA_LAKE_TABLE):\n",
    "    shutil.rmtree(DELTA_LAKE_TABLE, ignore_errors=False, onerror=None)"
   ]
  },
  {
   "cell_type": "code",
   "execution_count": 42,
   "metadata": {},
   "outputs": [],
   "source": [
    "df = pd.read_csv('./loan.csv')\n",
    "write_deltalake(DELTA_LAKE_TABLE, df, overwrite_schema=True)"
   ]
  },
  {
   "cell_type": "code",
   "execution_count": 43,
   "metadata": {},
   "outputs": [
    {
     "name": "stdout",
     "output_type": "stream",
     "text": [
      "0\n"
     ]
    }
   ],
   "source": [
    "dt = DeltaTable(DELTA_LAKE_TABLE)\n",
    "print(dt.version())"
   ]
  },
  {
   "cell_type": "code",
   "execution_count": 44,
   "metadata": {},
   "outputs": [],
   "source": [
    "### Fill version=1 in delta lake with selected features from original dataset."
   ]
  },
  {
   "cell_type": "code",
   "execution_count": 45,
   "metadata": {},
   "outputs": [
    {
     "name": "stdout",
     "output_type": "stream",
     "text": [
      "The number of columns has reduced from 111 to 53 columns by removing columns with 70% missing values\n"
     ]
    }
   ],
   "source": [
    "# Remove columns which missing values > 70%\n",
    "df_1 = df.dropna(axis=1, thresh=int(0.70*len(df)))\n",
    "\n",
    "print(\n",
    "    'The number of columns has reduced from {} to {} columns by removing columns with 70% missing values'.\n",
    "    format(len(df.columns), len(df_1.columns))\n",
    ")"
   ]
  },
  {
   "cell_type": "code",
   "execution_count": 46,
   "metadata": {},
   "outputs": [
    {
     "name": "stdout",
     "output_type": "stream",
     "text": [
      "The number of rows has been reduced from 39,717 to 38,577 by filtering the data with the correlated loan status\n"
     ]
    }
   ],
   "source": [
    "selected_loan_status = ['Fully Paid', 'Charged Off', 'Default']\n",
    "df_2 = df_1[df_1.loan_status.isin(selected_loan_status)]\n",
    "df_2.loan_status = df_2.loan_status.replace({'Fully Paid' : 'Good Loan'})\n",
    "df_2.loan_status = df_2.loan_status.replace({'Charged Off' : 'Bad Loan'})\n",
    "df_2.loan_status = df_2.loan_status.replace({'Default' : 'Bad Loan'})\n",
    "\n",
    "print(\n",
    "    'The number of rows has been reduced from {:,.0f} to {:,.0f} by filtering the data with the correlated loan status'.\n",
    "    format(len(df_1), len(df_2))     \n",
    ")"
   ]
  },
  {
   "cell_type": "code",
   "execution_count": 47,
   "metadata": {},
   "outputs": [
    {
     "data": {
      "text/html": [
       "<div>\n",
       "<style scoped>\n",
       "    .dataframe tbody tr th:only-of-type {\n",
       "        vertical-align: middle;\n",
       "    }\n",
       "\n",
       "    .dataframe tbody tr th {\n",
       "        vertical-align: top;\n",
       "    }\n",
       "\n",
       "    .dataframe thead th {\n",
       "        text-align: right;\n",
       "    }\n",
       "</style>\n",
       "<table border=\"1\" class=\"dataframe\">\n",
       "  <thead>\n",
       "    <tr style=\"text-align: right;\">\n",
       "      <th></th>\n",
       "      <th>loan_status</th>\n",
       "      <th>term</th>\n",
       "      <th>int_rate</th>\n",
       "      <th>installment</th>\n",
       "      <th>grade</th>\n",
       "      <th>annual_inc</th>\n",
       "      <th>verification_status</th>\n",
       "      <th>dti</th>\n",
       "    </tr>\n",
       "  </thead>\n",
       "  <tbody>\n",
       "    <tr>\n",
       "      <th>0</th>\n",
       "      <td>Good Loan</td>\n",
       "      <td>36 months</td>\n",
       "      <td>10.65%</td>\n",
       "      <td>162.87</td>\n",
       "      <td>B</td>\n",
       "      <td>24000.0</td>\n",
       "      <td>Verified</td>\n",
       "      <td>27.65</td>\n",
       "    </tr>\n",
       "    <tr>\n",
       "      <th>1</th>\n",
       "      <td>Bad Loan</td>\n",
       "      <td>60 months</td>\n",
       "      <td>15.27%</td>\n",
       "      <td>59.83</td>\n",
       "      <td>C</td>\n",
       "      <td>30000.0</td>\n",
       "      <td>Source Verified</td>\n",
       "      <td>1.00</td>\n",
       "    </tr>\n",
       "    <tr>\n",
       "      <th>2</th>\n",
       "      <td>Good Loan</td>\n",
       "      <td>36 months</td>\n",
       "      <td>15.96%</td>\n",
       "      <td>84.33</td>\n",
       "      <td>C</td>\n",
       "      <td>12252.0</td>\n",
       "      <td>Not Verified</td>\n",
       "      <td>8.72</td>\n",
       "    </tr>\n",
       "    <tr>\n",
       "      <th>3</th>\n",
       "      <td>Good Loan</td>\n",
       "      <td>36 months</td>\n",
       "      <td>13.49%</td>\n",
       "      <td>339.31</td>\n",
       "      <td>C</td>\n",
       "      <td>49200.0</td>\n",
       "      <td>Source Verified</td>\n",
       "      <td>20.00</td>\n",
       "    </tr>\n",
       "    <tr>\n",
       "      <th>5</th>\n",
       "      <td>Good Loan</td>\n",
       "      <td>36 months</td>\n",
       "      <td>7.90%</td>\n",
       "      <td>156.46</td>\n",
       "      <td>A</td>\n",
       "      <td>36000.0</td>\n",
       "      <td>Source Verified</td>\n",
       "      <td>11.20</td>\n",
       "    </tr>\n",
       "  </tbody>\n",
       "</table>\n",
       "</div>"
      ],
      "text/plain": [
       "  loan_status        term int_rate  installment grade  annual_inc  \\\n",
       "0   Good Loan   36 months   10.65%       162.87     B     24000.0   \n",
       "1    Bad Loan   60 months   15.27%        59.83     C     30000.0   \n",
       "2   Good Loan   36 months   15.96%        84.33     C     12252.0   \n",
       "3   Good Loan   36 months   13.49%       339.31     C     49200.0   \n",
       "5   Good Loan   36 months    7.90%       156.46     A     36000.0   \n",
       "\n",
       "  verification_status    dti  \n",
       "0            Verified  27.65  \n",
       "1     Source Verified   1.00  \n",
       "2        Not Verified   8.72  \n",
       "3     Source Verified  20.00  \n",
       "5     Source Verified  11.20  "
      ]
     },
     "execution_count": 47,
     "metadata": {},
     "output_type": "execute_result"
    }
   ],
   "source": [
    "#### First Trial - Fewer number of features\n",
    "df_3 = df_2[[\n",
    "    'loan_status', 'term','int_rate',\n",
    "    'installment','grade', 'annual_inc',\n",
    "    'verification_status','dti'  # These features are just initial guess, you can try to choose any other combination\n",
    "]]\n",
    "df_3.head()"
   ]
  },
  {
   "cell_type": "code",
   "execution_count": 48,
   "metadata": {},
   "outputs": [
    {
     "data": {
      "text/html": [
       "<div>\n",
       "<style scoped>\n",
       "    .dataframe tbody tr th:only-of-type {\n",
       "        vertical-align: middle;\n",
       "    }\n",
       "\n",
       "    .dataframe tbody tr th {\n",
       "        vertical-align: top;\n",
       "    }\n",
       "\n",
       "    .dataframe thead th {\n",
       "        text-align: right;\n",
       "    }\n",
       "</style>\n",
       "<table border=\"1\" class=\"dataframe\">\n",
       "  <thead>\n",
       "    <tr style=\"text-align: right;\">\n",
       "      <th></th>\n",
       "      <th>Count</th>\n",
       "      <th>Percent</th>\n",
       "    </tr>\n",
       "  </thead>\n",
       "  <tbody>\n",
       "  </tbody>\n",
       "</table>\n",
       "</div>"
      ],
      "text/plain": [
       "Empty DataFrame\n",
       "Columns: [Count, Percent]\n",
       "Index: []"
      ]
     },
     "execution_count": 48,
     "metadata": {},
     "output_type": "execute_result"
    }
   ],
   "source": [
    "# Find missing values in the chosen columns\n",
    "df_null = pd.DataFrame({'Count': df_3.isnull().sum(), 'Percent': round(100*df_3.isnull().sum()/len(df_3),2)})\n",
    "df_null[df_null['Count'] != 0]"
   ]
  },
  {
   "cell_type": "code",
   "execution_count": 49,
   "metadata": {},
   "outputs": [],
   "source": [
    "# Dropping rows with null values\n",
    "df_clean = df_3.dropna(axis = 0)"
   ]
  },
  {
   "cell_type": "code",
   "execution_count": 50,
   "metadata": {},
   "outputs": [
    {
     "data": {
      "text/plain": [
       "array([1, 0])"
      ]
     },
     "execution_count": 50,
     "metadata": {},
     "output_type": "execute_result"
    }
   ],
   "source": [
    "# The next step is to transform categorical target variable into integer\n",
    "df_clean.loan_status = df_clean.loan_status.replace({'Good Loan' : 1})\n",
    "df_clean.loan_status = df_clean.loan_status.replace({'Bad Loan' : 0})\n",
    "df_clean.loan_status.unique()"
   ]
  },
  {
   "cell_type": "code",
   "execution_count": 51,
   "metadata": {},
   "outputs": [
    {
     "name": "stdout",
     "output_type": "stream",
     "text": [
      "1\n"
     ]
    }
   ],
   "source": [
    "write_deltalake(DELTA_LAKE_TABLE, df_clean, mode='overwrite', overwrite_schema=True)\n",
    "dt = DeltaTable(DELTA_LAKE_TABLE)\n",
    "print(dt.version())"
   ]
  },
  {
   "cell_type": "code",
   "execution_count": 52,
   "metadata": {},
   "outputs": [],
   "source": [
    "### Fill version=2 in delta lake with few more features than version1 from original dataset."
   ]
  },
  {
   "cell_type": "code",
   "execution_count": 53,
   "metadata": {},
   "outputs": [],
   "source": [
    "df_4 = df_2"
   ]
  },
  {
   "cell_type": "code",
   "execution_count": 54,
   "metadata": {},
   "outputs": [],
   "source": [
    "# The next step is to transform categorical target variable into integer\n",
    "df_4.loan_status = df_4.loan_status.replace({'Good Loan' : 1})\n",
    "df_4.loan_status = df_4.loan_status.replace({'Bad Loan' : 0})"
   ]
  },
  {
   "cell_type": "code",
   "execution_count": 55,
   "metadata": {},
   "outputs": [
    {
     "data": {
      "text/plain": [
       "{int64: ['loan_status'], float64: ['installment', 'annual_inc', 'dti'], object: ['term', 'int_rate', 'grade', 'verification_status']}"
      ]
     },
     "execution_count": 55,
     "metadata": {},
     "output_type": "execute_result"
    }
   ],
   "source": [
    "df_4.columns.to_series().groupby(df_clean.dtypes).groups"
   ]
  },
  {
   "cell_type": "code",
   "execution_count": 56,
   "metadata": {},
   "outputs": [],
   "source": [
    "# First, dropping categorical features (object type) which have too many options available\n",
    "df_4 = df_4.drop(['emp_title', 'sub_grade', 'issue_d', 'last_pymnt_d', 'last_credit_pull_d'], axis=1)"
   ]
  },
  {
   "cell_type": "code",
   "execution_count": 57,
   "metadata": {},
   "outputs": [
    {
     "data": {
      "text/plain": [
       "id                           -0.042390\n",
       "member_id                    -0.039798\n",
       "loan_amnt                    -0.059463\n",
       "funded_amnt                  -0.056497\n",
       "funded_amnt_inv              -0.037781\n",
       "installment                  -0.027153\n",
       "annual_inc                    0.040867\n",
       "loan_status                   1.000000\n",
       "dti                          -0.045078\n",
       "delinq_2yrs                  -0.020096\n",
       "inq_last_6mths               -0.071878\n",
       "open_acc                      0.009140\n",
       "pub_rec                      -0.051001\n",
       "revol_bal                    -0.005854\n",
       "total_acc                     0.022608\n",
       "out_prncp                          NaN\n",
       "out_prncp_inv                      NaN\n",
       "total_pymnt                   0.235898\n",
       "total_pymnt_inv               0.232906\n",
       "total_rec_prncp               0.334944\n",
       "total_rec_int                -0.013008\n",
       "total_rec_late_fee           -0.165115\n",
       "recoveries                   -0.339562\n",
       "collection_recovery_fee      -0.204914\n",
       "last_pymnt_amnt               0.222524\n",
       "collections_12_mths_ex_med         NaN\n",
       "policy_code                        NaN\n",
       "acc_now_delinq                     NaN\n",
       "chargeoff_within_12_mths           NaN\n",
       "delinq_amnt                        NaN\n",
       "pub_rec_bankruptcies         -0.047757\n",
       "tax_liens                          NaN\n",
       "Name: loan_status, dtype: float64"
      ]
     },
     "execution_count": 57,
     "metadata": {},
     "output_type": "execute_result"
    }
   ],
   "source": [
    "# Second, to filter numerical features, we can use .corr() function to select only features with high correlation to the target variable\n",
    "df_4.corr()['loan_status']"
   ]
  },
  {
   "cell_type": "code",
   "execution_count": 58,
   "metadata": {},
   "outputs": [],
   "source": [
    "df_clean = df_4[[\n",
    "    'loan_status', # target variable\n",
    "    # features (object):\n",
    "    'term', 'grade','home_ownership', 'verification_status', 'pymnt_plan', 'purpose', \n",
    "    'initial_list_status', 'application_type',\n",
    "    # features (int/float):\n",
    "    'total_pymnt', 'total_pymnt_inv', 'total_rec_prncp', 'recoveries',                   \n",
    "    'collection_recovery_fee', 'last_pymnt_amnt', 'int_rate'\n",
    "]]"
   ]
  },
  {
   "cell_type": "code",
   "execution_count": 59,
   "metadata": {},
   "outputs": [
    {
     "data": {
      "text/html": [
       "<div>\n",
       "<style scoped>\n",
       "    .dataframe tbody tr th:only-of-type {\n",
       "        vertical-align: middle;\n",
       "    }\n",
       "\n",
       "    .dataframe tbody tr th {\n",
       "        vertical-align: top;\n",
       "    }\n",
       "\n",
       "    .dataframe thead th {\n",
       "        text-align: right;\n",
       "    }\n",
       "</style>\n",
       "<table border=\"1\" class=\"dataframe\">\n",
       "  <thead>\n",
       "    <tr style=\"text-align: right;\">\n",
       "      <th></th>\n",
       "      <th>Count</th>\n",
       "      <th>Percent</th>\n",
       "    </tr>\n",
       "  </thead>\n",
       "  <tbody>\n",
       "  </tbody>\n",
       "</table>\n",
       "</div>"
      ],
      "text/plain": [
       "Empty DataFrame\n",
       "Columns: [Count, Percent]\n",
       "Index: []"
      ]
     },
     "execution_count": 59,
     "metadata": {},
     "output_type": "execute_result"
    }
   ],
   "source": [
    "df_null = pd.DataFrame({'Count': df_clean.isnull().sum(), 'Percent': round(100*df_clean.isnull().sum()/len(df_clean),2)})\n",
    "df_null[df_null['Count'] != 0] "
   ]
  },
  {
   "cell_type": "code",
   "execution_count": 60,
   "metadata": {},
   "outputs": [
    {
     "name": "stdout",
     "output_type": "stream",
     "text": [
      "2\n"
     ]
    }
   ],
   "source": [
    "write_deltalake(DELTA_LAKE_TABLE, df_clean, mode='overwrite', overwrite_schema=True)\n",
    "dt = DeltaTable(DELTA_LAKE_TABLE)\n",
    "print(dt.version())"
   ]
  }
 ],
 "metadata": {
  "kernelspec": {
   "display_name": "Python 3",
   "language": "python",
   "name": "python3"
  },
  "language_info": {
   "codemirror_mode": {
    "name": "ipython",
    "version": 3
   },
   "file_extension": ".py",
   "mimetype": "text/x-python",
   "name": "python",
   "nbconvert_exporter": "python",
   "pygments_lexer": "ipython3",
   "version": "3.7.5"
  }
 },
 "nbformat": 4,
 "nbformat_minor": 4
}
