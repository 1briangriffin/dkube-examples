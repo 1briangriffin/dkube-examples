{
 "cells": [
  {
   "cell_type": "code",
   "execution_count": null,
   "metadata": {},
   "outputs": [],
   "source": [
    "import pandas as pd\n",
    "import os\n",
    "import shutil\n",
    "\n",
    "import warnings\n",
    "warnings.filterwarnings(\"ignore\")\n",
    "\n",
    "from deltalake import DeltaTable\n",
    "from deltalake.writer import write_deltalake"
   ]
  },
  {
   "cell_type": "code",
   "execution_count": null,
   "metadata": {},
   "outputs": [],
   "source": [
    "DELTA_LAKE_TABLE = \"loans.delta\""
   ]
  },
  {
   "cell_type": "code",
   "execution_count": null,
   "metadata": {},
   "outputs": [],
   "source": [
    "if os.path.exists(DELTA_LAKE_TABLE):\n",
    "    shutil.rmtree(DELTA_LAKE_TABLE, ignore_errors=False, onerror=None)"
   ]
  },
  {
   "cell_type": "code",
   "execution_count": null,
   "metadata": {},
   "outputs": [],
   "source": [
    "df = pd.read_csv('./loan.csv')\n",
    "write_deltalake(DELTA_LAKE_TABLE, df, overwrite_schema=True)"
   ]
  },
  {
   "cell_type": "code",
   "execution_count": null,
   "metadata": {},
   "outputs": [],
   "source": [
    "dt = DeltaTable(DELTA_LAKE_TABLE)\n",
    "print(dt.version())"
   ]
  },
  {
   "cell_type": "code",
   "execution_count": null,
   "metadata": {},
   "outputs": [],
   "source": [
    "### Fill version=1 in delta lake with selected features from original dataset."
   ]
  },
  {
   "cell_type": "code",
   "execution_count": null,
   "metadata": {},
   "outputs": [],
   "source": [
    "# Remove columns which missing values > 70%\n",
    "df_1 = df.dropna(axis=1, thresh=int(0.70*len(df)))\n",
    "\n",
    "print(\n",
    "    'The number of columns has reduced from {} to {} columns by removing columns with 70% missing values'.\n",
    "    format(len(df.columns), len(df_1.columns))\n",
    ")"
   ]
  },
  {
   "cell_type": "code",
   "execution_count": null,
   "metadata": {},
   "outputs": [],
   "source": [
    "selected_loan_status = ['Fully Paid', 'Charged Off', 'Default']\n",
    "df_2 = df_1[df_1.loan_status.isin(selected_loan_status)]\n",
    "df_2.loan_status = df_2.loan_status.replace({'Fully Paid' : 'Good Loan'})\n",
    "df_2.loan_status = df_2.loan_status.replace({'Charged Off' : 'Bad Loan'})\n",
    "df_2.loan_status = df_2.loan_status.replace({'Default' : 'Bad Loan'})\n",
    "\n",
    "print(\n",
    "    'The number of rows has been reduced from {:,.0f} to {:,.0f} by filtering the data with the correlated loan status'.\n",
    "    format(len(df_1), len(df_2))     \n",
    ")"
   ]
  },
  {
   "cell_type": "code",
   "execution_count": null,
   "metadata": {},
   "outputs": [],
   "source": [
    "#### First Trial - Fewer number of features\n",
    "df_3 = df_2[[\n",
    "    'loan_status', 'term','int_rate',\n",
    "    'installment','grade', 'annual_inc',\n",
    "    'verification_status','dti'  # These features are just initial guess, you can try to choose any other combination\n",
    "]]\n",
    "df_3.head()"
   ]
  },
  {
   "cell_type": "code",
   "execution_count": null,
   "metadata": {},
   "outputs": [],
   "source": [
    "# Find missing values in the chosen columns\n",
    "df_null = pd.DataFrame({'Count': df_3.isnull().sum(), 'Percent': round(100*df_3.isnull().sum()/len(df_3),2)})\n",
    "df_null[df_null['Count'] != 0]"
   ]
  },
  {
   "cell_type": "code",
   "execution_count": null,
   "metadata": {},
   "outputs": [],
   "source": [
    "# Dropping rows with null values\n",
    "df_clean = df_3.dropna(axis = 0)"
   ]
  },
  {
   "cell_type": "code",
   "execution_count": null,
   "metadata": {},
   "outputs": [],
   "source": [
    "# The next step is to transform categorical target variable into integer\n",
    "df_clean.loan_status = df_clean.loan_status.replace({'Good Loan' : 1})\n",
    "df_clean.loan_status = df_clean.loan_status.replace({'Bad Loan' : 0})\n",
    "df_clean.loan_status.unique()"
   ]
  },
  {
   "cell_type": "code",
   "execution_count": null,
   "metadata": {},
   "outputs": [],
   "source": [
    "write_deltalake(DELTA_LAKE_TABLE, df_clean, mode='overwrite', overwrite_schema=True)\n",
    "dt = DeltaTable(DELTA_LAKE_TABLE)\n",
    "print(dt.version())"
   ]
  },
  {
   "cell_type": "code",
   "execution_count": null,
   "metadata": {},
   "outputs": [],
   "source": [
    "### Fill version=2 in delta lake with few more features than version1 from original dataset."
   ]
  },
  {
   "cell_type": "code",
   "execution_count": null,
   "metadata": {},
   "outputs": [],
   "source": [
    "df_4 = df_2"
   ]
  },
  {
   "cell_type": "code",
   "execution_count": null,
   "metadata": {},
   "outputs": [],
   "source": [
    "# The next step is to transform categorical target variable into integer\n",
    "df_4.loan_status = df_4.loan_status.replace({'Good Loan' : 1})\n",
    "df_4.loan_status = df_4.loan_status.replace({'Bad Loan' : 0})"
   ]
  },
  {
   "cell_type": "code",
   "execution_count": null,
   "metadata": {},
   "outputs": [],
   "source": [
    "df_4.columns.to_series().groupby(df_clean.dtypes).groups"
   ]
  },
  {
   "cell_type": "code",
   "execution_count": null,
   "metadata": {},
   "outputs": [],
   "source": [
    "# First, dropping categorical features (object type) which have too many options available\n",
    "df_4 = df_4.drop(['emp_title', 'sub_grade', 'issue_d', 'last_pymnt_d', 'last_credit_pull_d'], axis=1)"
   ]
  },
  {
   "cell_type": "code",
   "execution_count": null,
   "metadata": {},
   "outputs": [],
   "source": [
    "# Second, to filter numerical features, we can use .corr() function to select only features with high correlation to the target variable\n",
    "df_4.corr()['loan_status']"
   ]
  },
  {
   "cell_type": "code",
   "execution_count": null,
   "metadata": {},
   "outputs": [],
   "source": [
    "df_clean = df_4[[\n",
    "    'loan_status', # target variable\n",
    "    # features (object):\n",
    "    'term', 'grade','home_ownership', 'verification_status', 'pymnt_plan', 'purpose', \n",
    "    'initial_list_status', 'application_type',\n",
    "    # features (int/float):\n",
    "    'total_pymnt', 'total_pymnt_inv', 'total_rec_prncp', 'recoveries',                   \n",
    "    'collection_recovery_fee', 'last_pymnt_amnt', 'int_rate'\n",
    "]]"
   ]
  },
  {
   "cell_type": "code",
   "execution_count": null,
   "metadata": {},
   "outputs": [],
   "source": [
    "df_null = pd.DataFrame({'Count': df_clean.isnull().sum(), 'Percent': round(100*df_clean.isnull().sum()/len(df_clean),2)})\n",
    "df_null[df_null['Count'] != 0] "
   ]
  },
  {
   "cell_type": "code",
   "execution_count": null,
   "metadata": {},
   "outputs": [],
   "source": [
    "write_deltalake(DELTA_LAKE_TABLE, df_clean, mode='overwrite', overwrite_schema=True)\n",
    "dt = DeltaTable(DELTA_LAKE_TABLE)\n",
    "print(dt.version())"
   ]
  },
  {
   "cell_type": "code",
   "execution_count": null,
   "metadata": {},
   "outputs": [],
   "source": []
  }
 ],
 "metadata": {
  "kernelspec": {
   "display_name": "Python 3",
   "language": "python",
   "name": "python3"
  },
  "language_info": {
   "codemirror_mode": {
    "name": "ipython",
    "version": 3
   },
   "file_extension": ".py",
   "mimetype": "text/x-python",
   "name": "python",
   "nbconvert_exporter": "python",
   "pygments_lexer": "ipython3",
   "version": "3.7.5"
  }
 },
 "nbformat": 4,
 "nbformat_minor": 4
}
